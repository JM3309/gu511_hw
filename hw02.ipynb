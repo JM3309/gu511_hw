{
 "cells": [
  {
   "cell_type": "markdown",
   "metadata": {},
   "source": [
    "<a href=\"https://colab.research.google.com/github/rzl-ds/gu511_hw/blob/master/hw02.ipynb\" target=\"_parent\">\n",
    "    <img src=\"https://colab.research.google.com/assets/colab-badge.svg\"/>\n",
    "</a>"
   ]
  },
  {
   "cell_type": "markdown",
   "metadata": {},
   "source": [
    "# Exercises due by EOD 2020.09.11"
   ]
  },
  {
   "cell_type": "markdown",
   "metadata": {},
   "source": [
    "## goal"
   ]
  },
  {
   "cell_type": "markdown",
   "metadata": {},
   "source": [
    "in this homework assignment we will\n",
    "\n",
    "+ practice making `ssh` connections\n",
    "+ get set up for future `git` learning and work"
   ]
  },
  {
   "cell_type": "markdown",
   "metadata": {},
   "source": [
    "## method of delivery"
   ]
  },
  {
   "cell_type": "markdown",
   "metadata": {},
   "source": [
    "*as mentioned in our first lecture, the method of delivery may change from assignment to assignment. we will include this section in every assignment to provide an overview of how we expect homework results to be submitted, and to provide background notes or explanations for \"new\" delivery concepts or methods.*"
   ]
  },
  {
   "cell_type": "markdown",
   "metadata": {},
   "source": [
    "this week you will be submitting the results of your homework via a direct email as well as indirect log statements and notifications we will automatically receive. for the email,\n",
    "\n",
    "+ subject: \"hw02 answers\"\n",
    "+ to: rzl5@georgetown.edu, ip221@georgetown.edu\n",
    "\n",
    "summary:\n",
    "\n",
    "| exercise | deliverable | method of delivery | points |\n",
    "|----------|-------------|--------------------|--------|\n",
    "| 1| none | none | 5 |\n",
    "| 2 | `ssh` `config` file entry | include in body of submission email | 3 |\n",
    "| 3 | none | none | 10 |\n",
    "| 4 | none | none | 4 |\n",
    "| 5 | none | none | 4 |\n",
    "| 6 | none | none | 4 |\n",
    "\n",
    "\n",
    "total points: 30"
   ]
  },
  {
   "cell_type": "markdown",
   "metadata": {},
   "source": [
    "<div style=\"border: 1px solid lightgrey;\">"
   ]
  },
  {
   "cell_type": "markdown",
   "metadata": {},
   "source": [
    "# exercise 1: log in to *my* `ec2` instance\n",
    "\n",
    "in last week's assignment (exercises 5 and 6) you sent us a hailing ip and a public key for your personal laptop (it _was_ for your personal laptop, right?). these are the things a system administrator might ask of you when they want to grant you `ssh` logon access to a shared `linux` machine.\n",
    "\n",
    "well we're granting you access!\n",
    "\n",
    "using the *private* key that corresponds to the *public* key you lent us, attempt to make an `ssh` connection using the following details:\n",
    "\n",
    "+ host: `ec2-3-223-216-195.compute-1.amazonaws.com`\n",
    "+ user name: your georgetown user id (e.g., my username would be `rzl5`)\n",
    "\n",
    "if you are successful, you will see the typical `ubuntu` login header text and then your prompt should update to read\n",
    "\n",
    "```\n",
    "[your guid]@ip-172-31-69-2:~$\n",
    "```\n",
    "\n",
    "**PLEASE WAIT UNTIL SUNDAY TO ATTMEMPT LOGIN!!**. we will add users and keys on Saturday after all homework has been submitted.\n",
    "\n",
    "*note: you must make this connection from the machine on which you built your public and private key pairs -- you must have your private key to log in, after all!*\n",
    "\n",
    "\n",
    "##### nothing to submit here, we will see your login in our auth logs"
   ]
  },
  {
   "cell_type": "markdown",
   "metadata": {},
   "source": [
    "<div style=\"border: 1px solid lightgrey;\">"
   ]
  },
  {
   "cell_type": "markdown",
   "metadata": {},
   "source": [
    "# exercise 2: create an `ssh` `config` file entry\n",
    "\n",
    "we will write the commands below with the `mac`- and `linux`-specific `~` shorthand for your home directory. if you are doing this assignment on a `windows` computer, replace that value `~` with the variable `%USERPROFILE%` (you can see what this is by executing `echo %USERPROFILE%` in the `cmd` prompt). for more details, see exercise 1.1 from last week's hw."
   ]
  },
  {
   "cell_type": "markdown",
   "metadata": {},
   "source": [
    "## 2.1: refresher on `config` entries\n",
    "in class we discussed how the `ssh` `config` file can allow you to assign short, memorable nicknames to the set of configuration parameters you would pass to the `ssh` command for each remote server to which you wish to connect.\n",
    "\n",
    "for example, instead of writing\n",
    "\n",
    "``` sh\n",
    "ssh -i ~/.ssh/my_special_key_file ubuntu@ec2-xx-xxx-xx-xxx.compute-1.amazonaws.com\n",
    "```\n",
    "\n",
    "you could *instead* add the following to your `~/.ssh/config` file:\n",
    "\n",
    "```\n",
    "Host my_ec2\n",
    "    HostName ec2-xx-xxx-xx-xxx.compute-1.amazonaws.com\n",
    "    User ubuntu\n",
    "    IdentityFile ~/.ssh/my_special_key_file\n",
    "```\n",
    "\n",
    "after adding this record, you could replace the long `ssh` command above with simply\n",
    "\n",
    "```\n",
    "ssh my_ec2\n",
    "```\n",
    "\n",
    "one reason to do this is that you may have multiple different remote computers to connect to. you can have multiple entries in your `~/.ssh/config` file:\n",
    "\n",
    "```\n",
    "Host gu511\n",
    "    HostName ec2-xx-xxx-xx-xxx.compute-1.amazonaws.com\n",
    "    User ubuntu\n",
    "    IdentityFile ~/.ssh/my_gu511_key.pem\n",
    "\n",
    "Host deeplearning\n",
    "    HostName ec2-xx-xxx-xx-xxx.compute-1.amazonaws.com\n",
    "    User zach\n",
    "    IdentityFile ~/.ssh/my_deeplearning_key.pem\n",
    "\n",
    "Host spark\n",
    "    HostName ec2-xx-xxx-xx-xxx.compute-1.amazonaws.com\n",
    "    User spark\n",
    "    IdentityFile ~/.ssh/my_spark_key.pem\n",
    "```"
   ]
  },
  {
   "cell_type": "markdown",
   "metadata": {},
   "source": [
    "## 2.2: the actual thing we're asking you to do\n",
    "\n",
    "we want you to draft one `config` entry shortcut for your `ssh` login to your personal `ec2` instance. in previous lectures, we made our connections to these instances by executing the `ssh` command and providing flags and full connection details, a la\n",
    "\n",
    "```bash\n",
    "ssh -i IdentityFile User@HostName\n",
    "```\n",
    "\n",
    "for this exercise, write the text block that you *could* add to your `~/.ssh/config` file to encapsulate that command into a shorthand connection name. for the `Host` nickname you are free to use whatever you want (e.g. `gu511`).\n",
    "\n",
    "*note: the assignment is **not** a full config file, it's just the block you would add to a full config file.*\n",
    "\n",
    "##### include this block of text in the body of your submission email"
   ]
  },
  {
   "cell_type": "markdown",
   "metadata": {},
   "source": [
    "## 2.3: [OPTIONAL] add that block to your *real* `~/.ssh/config` file\n",
    "\n",
    "this is not for submission, but if you would like, you should add that block of text to the end of your `~/.ssh/config` file.\n",
    "\n",
    "to do this,\n",
    "\n",
    "1. open a simple text editor of your choice.\n",
    "1. determine whether or not a file already exists at `~/.ssh/config` and if so, open it. if not, create it (save this empty file in that location)\n",
    "1. go to the end of your (possibly empty) file and write the four lines (`Host`, `HostName`, `User`, `IdentityFile`) in that file\n",
    "    1. replace the values in my example with the real values you would use in a successful ssh command\n",
    "    1. indent the `HostName`, `User`, and `IdentityFile` lines (start the line with a tab or 4 spaces)\n",
    "1. save that file at `~/.ssh/config`\n",
    "1. check in your terminal that this all worked by executing `cat ~/.ssh/config`. it should print out the file you just edited\n",
    "\n",
    "if all of that is done, you should be able to run\n",
    "\n",
    "```\n",
    "ssh YOUR_HOST_NAME_HERE\n",
    "```\n",
    "\n",
    "(where `YOUR_HOST_NAME_HERE` is whatever you wrote on the line `Host YOUR_HOST_NAME_HERE`) and connect"
   ]
  },
  {
   "cell_type": "markdown",
   "metadata": {},
   "source": [
    "<div style=\"border: 1px solid lightgrey;\">"
   ]
  },
  {
   "cell_type": "markdown",
   "metadata": {},
   "source": [
    "# exercise 3: complete the \"learn `python` the hard way: command line crash course\"\n",
    "\n",
    "walk through [this short linux tutorial](https://learnpythonthehardway.org/book/appendixa.html) for a second crash course in linux fundamentals.\n",
    "\n",
    "+ **don't** be worried about the number of chapters -- each chapter is just one command.\n",
    "+ **do** focus on the `linux` commands and skip the `windows` commands unless you want to.\n",
    "+ **don't** spend time on the `windows` commands in each chapter (unless you want to)\n",
    "+ **don't** spend time on the \"do more\" section (unless you want to)\n",
    "\n",
    "##### there is nothing to submit here"
   ]
  },
  {
   "cell_type": "markdown",
   "metadata": {},
   "source": [
    "<div style=\"border: 1px solid lightgrey;\">"
   ]
  },
  {
   "cell_type": "markdown",
   "metadata": {},
   "source": [
    "# exercise 4: install `git` on your personal computer\n",
    "\n",
    "our `aws` `ubuntu` instances command with the `git` command line interface pre-installed -- pretty nifty. your laptop? less nifty.\n",
    "\n",
    "throughtout this course, we will be using `git` from the command line often. let's install it on your laptop so we can use `git` in all our many special computing environments"
   ]
  },
  {
   "cell_type": "markdown",
   "metadata": {},
   "source": [
    "## 4.1: do you already have `git`?\n",
    "\n",
    "for either windows or mac, if you can open up a terminal or command prompt and type `git --version` and you get a real response about the version of `git` and that version is **greater than or equal to 2.0.0**, you're done!"
   ]
  },
  {
   "cell_type": "markdown",
   "metadata": {},
   "source": [
    "## 4.2: otherwise...\n",
    "\n",
    "+ windows\n",
    "    + install [git for windows](https://gitforwindows.org/). we will use the `git bash` component regularly\n",
    "+ mac\n",
    "    + if you definitely know you use `homebrew` to install your packages:\n",
    "        + `brew install git`\n",
    "    + if you aren't sure or don't know what that means:\n",
    "        + when you typed `git --version` above, you probably got a prompt asking if you wanted to install it and / or `xcode` command line tools. go through that install process!\n",
    "        \n",
    "if you get lost in the above, refere to the [official install instructions](https://git-scm.com/book/en/v2/Getting-Started-Installing-Git)"
   ]
  },
  {
   "cell_type": "markdown",
   "metadata": {},
   "source": [
    "## 4.3: bells and whistles\n",
    "\n",
    "you may want to try out [the `github` desktop client](https://desktop.github.com/), which is pretty fancy. we will focus on working from the command line in this class, but you may find it generally useful!\n",
    "\n",
    "\n",
    "##### nothing to submit here"
   ]
  },
  {
   "cell_type": "markdown",
   "metadata": {},
   "source": [
    "<div style=\"border: 1px solid lightgrey;\">"
   ]
  },
  {
   "cell_type": "markdown",
   "metadata": {},
   "source": [
    "# exercise 5: create a brand new *remote* `github` repository\n",
    "\n",
    "log in to your `github` account and create a new public repository.\n",
    "\n",
    "<br><div align=\"center\"><img src=\"http://drive.google.com/uc?export=view&id=1oIQdOvRk2qoLpWGwagJ9yJ1qER2qv0Wm\"></div>\n",
    "\n",
    "details:\n",
    "+ no template\n",
    "+ repository name: `gu511_git_hw`\n",
    "+ description: anything you want\n",
    "+ keep it public\n",
    "+ **do not** initialize with a README\n",
    "+ create\n",
    "+ **don't do any of the listed things -- just leave it!**\n",
    "\n",
    "at the end of this, you should be at a page that looks like this:\n",
    "\n",
    "<br><div align=\"center\"><img src=\"http://drive.google.com/uc?export=view&id=1l8WWJvEcJSk9Pronh2J5mZMA99bw_v0J\"></div>\n",
    "\n",
    "##### there is nothing to submit here"
   ]
  },
  {
   "cell_type": "markdown",
   "metadata": {},
   "source": [
    "<div style=\"border: 1px solid lightgrey;\">"
   ]
  },
  {
   "cell_type": "markdown",
   "metadata": {},
   "source": [
    "# exercise 6: add collaborators\n",
    "\n",
    "add\n",
    "\n",
    "+ `rzachlamberty`\n",
    "+ `inespancorbo`\n",
    "\n",
    "as collaborators (from your repo's main page > settings tab > collaborators left menu bar option)\n",
    "\n",
    "<br><div align=\"center\"><img src=\"http://drive.google.com/uc?export=view&id=1TwrmqqP64OvN2lrLO_OiQMLXi31gaLL1\"></div>\n",
    "\n",
    "##### nothing to submit here (we will be notificed when we're added as collaborators)"
   ]
  },
  {
   "cell_type": "markdown",
   "metadata": {},
   "source": [
    "<div style=\"border: 1px solid lightgrey;\">"
   ]
  }
 ],
 "metadata": {
  "kernelspec": {
   "display_name": "Python 3",
   "language": "python",
   "name": "python3"
  },
  "language_info": {
   "codemirror_mode": {
    "name": "ipython",
    "version": 3
   },
   "file_extension": ".py",
   "mimetype": "text/x-python",
   "name": "python",
   "nbconvert_exporter": "python",
   "pygments_lexer": "ipython3",
   "version": "3.7.3"
  },
  "toc": {
   "base_numbering": 1,
   "nav_menu": {},
   "number_sections": true,
   "sideBar": true,
   "skip_h1_title": false,
   "title_cell": "Table of Contents",
   "title_sidebar": "Contents",
   "toc_cell": false,
   "toc_position": {},
   "toc_section_display": true,
   "toc_window_display": false
  }
 },
 "nbformat": 4,
 "nbformat_minor": 2
}
