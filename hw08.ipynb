{
 "cells": [
  {
   "cell_type": "markdown",
   "metadata": {},
   "source": [
    "<a href=\"https://colab.research.google.com/github/rzl-ds/gu511_hw/blob/master/hw08.ipynb\" target=\"_parent\">\n",
    "    <img src=\"https://colab.research.google.com/assets/colab-badge.svg\"/>\n",
    "</a>"
   ]
  },
  {
   "cell_type": "markdown",
   "metadata": {},
   "source": [
    "# Exercises due by EOD 2020.11.06"
   ]
  },
  {
   "cell_type": "markdown",
   "metadata": {},
   "source": [
    "## goal"
   ]
  },
  {
   "cell_type": "markdown",
   "metadata": {},
   "source": [
    "in this homework assignment we will create some shared content in `s3` and use `boto3` to integrate with several `aws` services"
   ]
  },
  {
   "cell_type": "markdown",
   "metadata": {},
   "source": [
    "## method of delivery"
   ]
  },
  {
   "cell_type": "markdown",
   "metadata": {},
   "source": [
    "*as mentioned in our first lecture, the method of delivery may change from assignment to assignment. we will include this section in every assignment to provide an overview of how we expect homework results to be submitted, and to provide background notes or explanations for \"new\" delivery concepts or methods.*"
   ]
  },
  {
   "cell_type": "markdown",
   "metadata": {},
   "source": [
    "this week you will be submitting the results of your homework in a few ays: via your `github` repo, via upload to a *new* shared `s3` homework bucket, and as items in the body of an email.\n",
    "\n",
    "for the submission email:\n",
    "\n",
    "+ subject: **\"hw08 answers\"**\n",
    "+ to: rzl5@georgetown.edu, ip221@georgetown.edu\n",
    "\n",
    "summary:\n",
    "\n",
    "| exercise | deliverable | method of delivery | points |\n",
    "|----------|-------------|--------------------|--------|\n",
    "| 1 | an `s3` bucket name | include in submission email | 5 |\n",
    "| 2 | a `url` to an `s3`-hosted webpage | include in submission email | 5 |\n",
    "| 3 | a `bash` command to run a `python` file and a `url` to an `s3` file | include in submission email | 5 |\n",
    "| 4 | a `git merge` commit | we will see it on our shared `github` repo | 5 |\n",
    "\n",
    "total points: 20"
   ]
  },
  {
   "cell_type": "markdown",
   "metadata": {},
   "source": [
    "<div style=\"border: 1px solid lightgrey;\">"
   ]
  },
  {
   "cell_type": "markdown",
   "metadata": {},
   "source": [
    "# exercise 1: create an `s3` bucket for homework submission"
   ]
  },
  {
   "cell_type": "markdown",
   "metadata": {},
   "source": [
    "## 1.1 create a new `s3` bucket\n",
    "\n",
    "1. call it whatever you want\n",
    "1. leave all other permissions alone"
   ]
  },
  {
   "cell_type": "markdown",
   "metadata": {},
   "source": [
    "## 1.2: grant us permissions\n",
    "\n",
    "after that bucket has been created:\n",
    "\n",
    "1. open the `s3` web console page for the bucket you just created\n",
    "1. click on the \"Permissions\" tab\n",
    "\n",
    "we will now edit two different permissions, one to allow us to access *files* in your bucket, and one to allow us to *list* things in your bucket\n",
    "\n",
    "img: s3-permissions-tab\n",
    "<br><div align=\"center\"><img src=\"http://drive.google.com/uc?export=view&id=1DQqkiJ3E_wHTPv6gap7KUB9DGMtMcrXm\" width=\"1000\"></div>"
   ]
  },
  {
   "cell_type": "markdown",
   "metadata": {},
   "source": [
    "### 1.2.1: update your bucket policy\n",
    "\n",
    "first, let's grant my `aws` account *file* permissions by adding a bucket policy\n",
    "\n",
    "1. scroll down to the \"Bucket Policy\" section and click the Edit button\n",
    "1. this should have opened an \"Edit bucket policy\" page\n",
    "1. click the \"policy generator\" link at the top of the editor window\n",
    "1. generate a policy\n",
    "    1. change \"Select Type of Policy\" to \"S3 Bucket Policy\"\n",
    "    1. Principal = 134461086921\n",
    "    1. AWS Service = Amazon S3\n",
    "    1. Actions = click the \"All Actions\" button\n",
    "    1. Amazon Resource Name (ARN) = `arn:aws:s3:::YOUR_BUCKET_NAME_HERE,arn:aws:s3:::YOUR_BUCKET_NAME_HERE/*` (replace both instances of `YOUR_BUCKET_NAME_HERE` with the simple bucket name\n",
    "        + note that the above is *two* `arn` values separated by a comma, the first is the `arn` of the bucket, and the second is an `arn` matching the path of any key in that bucket. *both* are necessary.\n",
    "        + for example, if my bucket name is `gu511-shared-test-2020`, my value is `arn:aws:s3:::gu511-shared-test-2020,arn:aws:s3:::gu511-shared-test-2020/*`\n",
    "    1. click Add Statement\n",
    "    1. click \"Generate Policy\"\n",
    "    1. copy the pop-up's contents\n",
    "    1. close the policy generator window\n",
    "1. back on the previous policy editor page, in the editor field, paste the `json` policy you just generated and copied\n",
    "1. click \"Save changes\"\n",
    "\n",
    "<br><div align=\"center\"><img src=\"http://drive.google.com/uc?export=view&id=16aeXIeH7weoEnQevaoVqHHEB7HVQ6aaX\" width=\"1000\"></div>\n",
    "\n",
    "\n",
    "what you end up copying should look like the text below (with your particular bucket name filling in)\n",
    "\n",
    "```json\n",
    "{\n",
    "  \"Id\": \"Policy1604011189433\",\n",
    "  \"Version\": \"2012-10-17\",\n",
    "  \"Statement\": [\n",
    "    {\n",
    "      \"Sid\": \"Stmt1604011188038\",\n",
    "      \"Action\": \"s3:*\",\n",
    "      \"Effect\": \"Allow\",\n",
    "      \"Resource\": [\n",
    "        \"arn:aws:s3:::gu511-shared-test-2020\",\n",
    "        \"arn:aws:s3:::gu511-shared-test-2020/*\"\n",
    "      ],\n",
    "      \"Principal\": {\n",
    "        \"AWS\": [\n",
    "          \"134461086921\"\n",
    "        ]\n",
    "      }\n",
    "    }\n",
    "  ]\n",
    "}\n",
    "```\n",
    "\n",
    "note that back on the main page, this will look slightly different (how they specify the Principal value, in particular):\n",
    "\n",
    "```json\n",
    "{\n",
    "    \"Version\": \"2012-10-17\",\n",
    "    \"Id\": \"Policy1604011189433\",\n",
    "    \"Statement\": [\n",
    "        {\n",
    "            \"Sid\": \"Stmt1604011188038\",\n",
    "            \"Effect\": \"Allow\",\n",
    "            \"Principal\": {\n",
    "                \"AWS\": \"arn:aws:iam::134461086921:root\"\n",
    "            },\n",
    "            \"Action\": \"s3:*\",\n",
    "            \"Resource\": [\n",
    "                \"arn:aws:s3:::gu511-shared-test-2020\",\n",
    "                \"arn:aws:s3:::gu511-shared-test-2020/*\"\n",
    "            ]\n",
    "        }\n",
    "    ]\n",
    "}\n",
    "```"
   ]
  },
  {
   "cell_type": "markdown",
   "metadata": {},
   "source": [
    "### 1.2.2: update your bucket ACLs\n",
    "\n",
    "next, let's grant my `aws` account *bucket* permissions (for listing bucket contents, mostly)\n",
    "\n",
    "1. be on or get back to the \"Permissions\" tab for your bucket\n",
    "1. scroll down to the \"Access control list (ACL)\" section and click Edit\n",
    "1. click the \"Add grantee\" button at the bottom\n",
    "1. add my email address (`rzl5@georgetown.edu`) and check all four boxes\n",
    "1. click \"Save changes\"\n",
    "\n",
    "<br><div align=\"center\"><img src=\"http://drive.google.com/uc?export=view&id=1A0Rt0tFXr8whJATZRjaeyaRg0HXXBBMK\" width=\"1000\"></div>\n",
    "\n",
    "\n",
    "##### include your homework submission bucket name in the body of your submission email"
   ]
  },
  {
   "cell_type": "markdown",
   "metadata": {},
   "source": [
    "<div style=\"border: 1px solid lightgrey;\">"
   ]
  },
  {
   "cell_type": "markdown",
   "metadata": {},
   "source": [
    "# exercise 2: create a static webpage\n",
    "\n",
    "let's make a webpage!\n",
    "\n",
    "+ follow [this tutorial](https://docs.aws.amazon.com/AmazonS3/latest/dev/HostingWebsiteOnS3Setup.html) from the `aws` `s3` docs to create your own personal static webpage.\n",
    "+ **don't** do the cleanup step (step 7)\n",
    "+ when you get to the end of step 6, copy the url called the \"Bucket website endpoint\"\n",
    "+ open that url *in an incognito mode browser window*, not your regular browser window\n",
    "\n",
    "let us see your masterpiece!\n",
    "\n",
    "##### send us the url of your static webpage in your homework submission email"
   ]
  },
  {
   "cell_type": "markdown",
   "metadata": {},
   "source": [
    "<div style=\"border: 1px solid lightgrey;\">"
   ]
  },
  {
   "cell_type": "markdown",
   "metadata": {},
   "source": [
    "# exercise 3: a really sad alarm clock"
   ]
  },
  {
   "cell_type": "markdown",
   "metadata": {},
   "source": [
    "## 3.1: getting familiar with the script\n",
    "\n",
    "download [this `python` file](https://s3.amazonaws.com/shared.rzl.gu511.com/alarm_clock.py) and review it to figure out what it does.\n",
    "\n",
    "the elements below the `command line` comment block implement a command line interface (`cli`) for this python script. check out the `cli` options by trying out\n",
    "\n",
    "```bash\n",
    "python alarm_clock.py --help\n",
    "```\n",
    "\n",
    "*note*: this file has `boto3` as a prerequisite, so you have to execute the above command in an environment where `boto3` is installed. additionally, it assumes a `default` profile exists, or an `iam` role for an `ec2` server that it is running on, so make sure those exist as well."
   ]
  },
  {
   "cell_type": "markdown",
   "metadata": {},
   "source": [
    "## 3.2: create an alarm clock bucket\n",
    "\n",
    "create a *new* `s3` bucket (i.e. don't use your homework submission `s3` bucket) and make it fully visible to the public (that is, unclick the \"block all public access\" button when you create it).\n",
    "\n",
    "going forward, I will refer to this as \"the alarm clock bucket\"."
   ]
  },
  {
   "cell_type": "markdown",
   "metadata": {},
   "source": [
    "## 3.3: post a message\n",
    "\n",
    "use the `alarm_clock.py` file to post a message to that new bucket you created in the previous step."
   ]
  },
  {
   "cell_type": "markdown",
   "metadata": {},
   "source": [
    "## 3.4: send us some proof!\n",
    "\n",
    "collect\n",
    "\n",
    "1. the command you wrote to use `alarm_clock.py` to upload a message as a file to `s3`, and\n",
    "1. the url of the the resulting file\n",
    "    + verify that the `url` works for other users by opening that link in an incognito browser (this way you will certainly not be logged in to the `aws` web console)\n",
    "    + an example url is one I made: https://s3.amazonaws.com/testpublic.2019.lamberty.io/alarm_clock_message_31201910.015603.txt\n",
    "    \n",
    "\n",
    "##### include the `bash` command executed to run `alarm_clock.py`, and a `url` to the file on `s3` in the body of your submission email"
   ]
  },
  {
   "cell_type": "markdown",
   "metadata": {},
   "source": [
    "<div style=\"border: 1px solid lightgrey;\">"
   ]
  },
  {
   "cell_type": "markdown",
   "metadata": {},
   "source": [
    "# exercise 4: `merge` your `pipeline` branch into `master` (fast-forward `merge`)\n",
    "\n",
    "use [`git merge`](https://git-scm.com/docs/git-merge) to `merge` the changes that you have been tracking on the `pipeline` branch into `master`. then `push` the updated `master` `branch` to `github`\n",
    "\n",
    "*hint: if you're not sure, read the docs above to figure out which branch you should have checked out and which branch name you should include in your `git merge` call*"
   ]
  },
  {
   "cell_type": "markdown",
   "metadata": {},
   "source": [
    "<div style=\"border: 1px solid lightgrey;\">"
   ]
  }
 ],
 "metadata": {
  "kernelspec": {
   "display_name": "Python 3",
   "language": "python",
   "name": "python3"
  },
  "language_info": {
   "codemirror_mode": {
    "name": "ipython",
    "version": 3
   },
   "file_extension": ".py",
   "mimetype": "text/x-python",
   "name": "python",
   "nbconvert_exporter": "python",
   "pygments_lexer": "ipython3",
   "version": "3.7.3"
  },
  "toc": {
   "base_numbering": 1,
   "nav_menu": {},
   "number_sections": true,
   "sideBar": true,
   "skip_h1_title": false,
   "title_cell": "Table of Contents",
   "title_sidebar": "Contents",
   "toc_cell": false,
   "toc_position": {},
   "toc_section_display": true,
   "toc_window_display": false
  }
 },
 "nbformat": 4,
 "nbformat_minor": 2
}
