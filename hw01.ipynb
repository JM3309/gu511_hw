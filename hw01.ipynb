{
 "cells": [
  {
   "cell_type": "markdown",
   "metadata": {},
   "source": [
    "# Exercises due by EOD 2020.09.04"
   ]
  },
  {
   "cell_type": "markdown",
   "metadata": {},
   "source": [
    "## goal"
   ]
  },
  {
   "cell_type": "markdown",
   "metadata": {},
   "source": [
    "in this homework assignment we will\n",
    "\n",
    "+ collect information about our computers (both real, physical laptops and brand new virtual computers)\n",
    "+ share some important account and user name information\n",
    "+ learn more about `ssh` (practical use as well as the fun math behind it)\n",
    "+ take some surveys"
   ]
  },
  {
   "cell_type": "markdown",
   "metadata": {},
   "source": [
    "## method of delivery"
   ]
  },
  {
   "cell_type": "markdown",
   "metadata": {},
   "source": [
    "*as mentioned in our first lecture, the method of delivery may change from assignment to assignment. we will include this section in every assignment to provide an overview of how we expect homework results to be submitted, and to provide background notes or explanations for \"new\" delivery concepts or methods.*"
   ]
  },
  {
   "cell_type": "markdown",
   "metadata": {},
   "source": [
    "this week you will be submitting the results of your homework via **EMAIL**.\n",
    "\n",
    "+ subject: **\"hw01 answers\"**\n",
    "+ to: rzl5@georgetown.edu, ip221@georgetown.edu\n",
    "\n",
    "summary:\n",
    "\n",
    "| exercise | deliverable | method of delivery | points |\n",
    "|----------|-------------|--------------------|--------|\n",
    "| 1 | `csv` file of hardware and software values | named `comparison.csv` and attached to your submission email | 5 |\n",
    "| 2 | your `aws` `iam` user name, account id and alias, `iam` user's `ARN`, and canonical id | include in the email body | 2 |\n",
    "| 3 | your instance type, id, public `ipv4`, public `dns`, and security group info | include in the email body | 4 |\n",
    "| 4 | your `github` username | include in the email body | 2 |\n",
    "| 5 | none | none | 5 |\n",
    "| 6 | `ip` address and `openssh` public key string | include in body of submission email | 1 |\n",
    "| 7 | none | none | 10 |\n",
    "| 8 | a decoded single number | include in body of submission email | 10 |\n",
    "| 9 | a completed google survey | submit the survey | 1 |\n",
    "\n",
    "total points: 40"
   ]
  },
  {
   "cell_type": "markdown",
   "metadata": {},
   "source": [
    "<div style=\"border: 1px solid lightgrey;\">"
   ]
  },
  {
   "cell_type": "markdown",
   "metadata": {},
   "source": [
    "# exercise 1: computer details\n",
    "\n",
    "let's quantify the resources available to us in both our personal laptops and the `aws` `ec2` instance we spun up in the first lecture. don't get too hung up on the exact values here, our goal is to learn what the items in the first column mean, and to get a sense of which machine is more powerful.\n",
    "\n",
    "fill out the elements in the following table in excel or [google sheets](https://docs.google.com/spreadsheets/), save it as a `csv` file named `comparison.csv`, and attach that file to your homework submission email.\n",
    "\n",
    "| item                          | my computer | my aws instance |\n",
    "|-------------------------------|-------------|-----------------|\n",
    "| operating system              | ?           | ?               |\n",
    "| operating system version      | ?           | ?               |\n",
    "| RAM / memory (GiB)            | ?           | ?               |\n",
    "| number of processor cores     | ?           | ?               |\n",
    "| hard disk space (total)       | ?           | ?               |\n",
    "| python version (if installed) | ?           | ?               |\n",
    "| R version (if installed)      | ?           | ?               |\n",
    "\n",
    "\n",
    "some notes:\n",
    "\n",
    "+ where to look for this information\n",
    "    + generally, for the aws instance, you may find [this page](https://aws.amazon.com/ec2/instance-types/) useful.\n",
    "    + for mac users, open \"about this mac\" and focus on the \"overview\" and \"storage\" tabs\n",
    "    + for windows users, open the Settings app and click to System > About. focus on device specifications\n",
    "    + as always, google is a good place to start\n",
    "+ what each of these is\n",
    "    + operating system: one of `windows`, `mac`, or various flavors of `linux` (e.g. `ubuntu`, `RHEL`, `amazon linux`)\n",
    "    + operating system version: the number or code associated with your OS (e.g. `windows` **10**, `mac` **mojave** / **10.14.6**, `ubuntu` **18.04 LTS**)\n",
    "    + RAM / memory (GiB): a measurement of how much data your computer can hold in fast-access storage\n",
    "    + number of processor cores: the central processing unit (CPU) on your computer handles the scheduling and execution of all of the computational tasks you request. a \"core\" is an independent worker on your CPU -- more cores means more workers, and more workers mean more things are accomplished per second.\n",
    "        + on `aws` these are called `vCPU`s\n",
    "        + for your laptop, identify the make and model of your `cpu` (e.g. \"Intel Core i5\" or \"AMD ... 16-Core Processor\"). some will have the number of cores in the name; for the rest, try googling for that information.\n",
    "    + hard disk space (total): you picked this number when you built your `aws` instance or when you bought your laptop. this is a measurement of the volume of data your computer can store internally for future access.\n",
    "    + `python` and `R` versions\n",
    "        + make an `ssh` connection to your ec2 instance to find this information out for the second column\n",
    "        + on your laptop, the command line commands to get the `python` and `R` versions are simple: `python3 --version` and `R --version`\n",
    "        \n",
    "and when in doubt: google it!!\n",
    "\n",
    "##### submit this as a `csv` file named `comparison.csv` attached to your homework submission email"
   ]
  },
  {
   "cell_type": "markdown",
   "metadata": {},
   "source": [
    "<div style=\"border: 1px solid lightgrey;\">"
   ]
  },
  {
   "cell_type": "markdown",
   "metadata": {},
   "source": [
    "# exercise 2: `aws` account info\n",
    "\n",
    "From your `iam` account, select the dropdown in the top menu bar for your account name (e.g. `iam_name@account_alias`, for me it's `rzl@gu511`). Then, select \"My Security Credentials\" (link [here](https://console.aws.amazon.com/iam/home?region=us-east-1#/security_credentials).\n",
    "\n",
    "send us the first four items:\n",
    "\n",
    "+ user name\n",
    "+ arn\n",
    "+ account id\n",
    "+ account alias\n",
    "+ canonical id"
   ]
  },
  {
   "cell_type": "markdown",
   "metadata": {},
   "source": [
    "## exercise 2.1: defining the above\n",
    "\n",
    "1. `aws` account id\n",
    "    1. this is a unique 12 digit number for every `aws` account\n",
    "2. `aws` account alias\n",
    "    1. it can also be found on your `iam` dashboard, on the first line\n",
    "3. your `iam` user's ARN (amazon resource name)\n",
    "    1. an ARN is a unique identifier of resources, users, and services\n",
    "    2. ARNs are used throughout `aws` to manage permissions and communication\n",
    "    3. your user's ARN is also found on a page within the `iam` service. to see it in this second location,\n",
    "        1. go to the `iam` service\n",
    "        2. click on the \"Users\" left dashboard\n",
    "        3. click on your `iam` user name\n",
    "        4. the ARN is in the first line of the summary\n",
    "4. your account alias is the shorthand name you set in your login url\n",
    "5. your canonical id is an obfuscated version of your account ID, and is mostly useful for `s3` only\n",
    "\n",
    "more details [here](https://docs.aws.amazon.com/general/latest/gr/acct-identifiers.html)"
   ]
  },
  {
   "cell_type": "markdown",
   "metadata": {},
   "source": [
    "## exercise 2.2: submitting\n",
    "\n",
    "##### submit these four items (your `aws` `iam` user name, your account id and alias, your `iam` user's `ARN`, and your canonical id) as a bulleted list in the body of your submission email"
   ]
  },
  {
   "cell_type": "markdown",
   "metadata": {},
   "source": [
    "<div style=\"border: 1px solid lightgrey;\">"
   ]
  },
  {
   "cell_type": "markdown",
   "metadata": {},
   "source": [
    "# exercise 3: `ec2` instance details\n",
    "\n",
    "all of the following items can be found on the `ec2 > Instances` dashboard\n",
    "\n",
    "<br><div align=\"center\"><img src=\"https://drive.google.com/uc?export=view&id=0ByQ4VmO-MwEEa2cwRi1DeGV6V28\"></div><br>\n",
    "\n",
    "1. what is your instance's instance type?\n",
    "2. what is your instance's instance id?\n",
    "    1. this is a unique identifier for every `ec2` server\n",
    "3. what is your instance's public ipv4 ip address\n",
    "4. what is your instance's public DNS\n",
    "5. what are your instance's security group inbound rules?\n",
    "    1. send all the security group rules as (port, protocol, source CIDR (that ip-looking thing)) triads\n",
    "\n",
    "##### submit these five items as a bulleted list in the body of your submission email"
   ]
  },
  {
   "cell_type": "markdown",
   "metadata": {},
   "source": [
    "<div style=\"border: 1px solid lightgrey;\">"
   ]
  },
  {
   "cell_type": "markdown",
   "metadata": {},
   "source": [
    "# exercise 4: `github` account\n",
    "\n",
    "`git` is the most widely used version control system in the linux world, and `github` is the largest and most popular `git` repository management service. everyone should have a `github` account, and we ask every person in this course to have one.\n",
    "\n",
    "there will be at least one `git` related question on every homework assignment.\n",
    "\n",
    "for now, we request that you [create an account](https://github.com/join) if you don't already have one.\n",
    "\n",
    "the deliverable for this assignment is *your github user name*. for example, mine is `RZachLamberty` and my profile is [here](https://github.com/RZachLamberty)\n",
    "\n",
    "##### email us your `github` user name"
   ]
  },
  {
   "cell_type": "markdown",
   "metadata": {},
   "source": [
    "<div style=\"border: 1px solid lightgrey;\">"
   ]
  },
  {
   "cell_type": "markdown",
   "metadata": {},
   "source": [
    "# exercise 5: generating a public and private key pair\n",
    "\n",
    "we will create a public and private `ssh` key pair using the [RSA encryption algorithm](https://simple.wikipedia.org/wiki/RSA_%28algorithm%29)."
   ]
  },
  {
   "cell_type": "markdown",
   "metadata": {},
   "source": [
    "## 5.0: short circuiting this question\n",
    "\n",
    "this exercise is a walkthrough to create a default public / private key pair.\n",
    "\n",
    "this key pair is a pair of files named `id_rsa` (private) and `id_rsa.pub` (public). these files will need to exist in a *special* location on your laptop.\n",
    "\n",
    "before doing this exercise, just check and see if you already have these files:\n",
    "\n",
    "+ on a `mac` or `linux` machine, look in:\n",
    "    + `~/.ssh`\n",
    "    + to see if this directory exists and has these files, in a terminal execute `ls ~/.ssh/`\n",
    "+ on a `windows` machine, look in:\n",
    "    + `%USERPROFILE%/.ssh`\n",
    "    + to check, opening the `cmd` prompt and execute `IF EXIST %USERPROFILE%/.ssh/id_rsa ECHO key exists.`\n",
    "    + alternatively, open the `cmd` prompt, execute `echo %USERPROFILE%/.ssh`, then try to navigate to that path in file explorer\n",
    "\n",
    "if you find the two files `id_rsa` and `id_rsa.pub`, you're done!\n",
    "\n",
    "otherwise, read on"
   ]
  },
  {
   "cell_type": "markdown",
   "metadata": {},
   "source": [
    "## 5.1: putting `ssh` files in the right place\n",
    "\n",
    "to start, make sure that the paths we just searched in 5.0 exist\n",
    "\n",
    "+ `mac`: this is the directory `~/.ssh` -- a hidden directory `.ssh` in our home directory\n",
    "    + make sure this is created by executing `mkdir -p ~/.ssh` in you mac laptop terminal\n",
    "+ `windows`: this is the directory `%USERPROFILE%/.ssh` -- a hidden directory `.ssh` in our home directory\n",
    "    + you can create this in file explorer, or let it be created for you below"
   ]
  },
  {
   "cell_type": "markdown",
   "metadata": {},
   "source": [
    "## 5.2 make the keys\n",
    "\n",
    "this step will depend on whether or not you have the `ssh` command available. it is likely all of you do, so you will do the first sub-step here. if you do not, the second sub-step is for you."
   ]
  },
  {
   "cell_type": "markdown",
   "metadata": {},
   "source": [
    "### 5.2.1: if you have the `ssh` command available\n",
    "\n",
    "use the `ssh-keygen` program to create your key:\n",
    "\n",
    "```bash\n",
    "ssh-keygen -t rsa -b 4096\n",
    "# then press enter for all three prompts\n",
    "```\n",
    "\n",
    "this will create a file `~/.ssh/id_rsa`.\n",
    "\n",
    "to see the value, open the file with your favorite file editor, or in a terminal run\n",
    "\n",
    "```bash\n",
    "cat ~/.ssh/id_rsa\n",
    "```\n",
    "\n",
    "for background details, go through the section title \"Generating a new SSH key\" in [this walkthrough provided by the folks at `github`](https://docs.github.com/en/github/authenticating-to-github/generating-a-new-ssh-key-and-adding-it-to-the-ssh-agent)"
   ]
  },
  {
   "cell_type": "markdown",
   "metadata": {},
   "source": [
    "### 5.2.2: if you do not have the `ssh` command available\n",
    "\n",
    "you will use the [`puttygen`](https://www.chiark.greenend.org.uk/~sgtatham/putty/latest.html) program. install `putty` and open `puttygen`, where we can easily create a key.\n",
    "\n",
    "click the \"Generate\" button and follow instructions. after waving your mouse around, the public key will be viewable at the top of the `puttygen` window.\n",
    "\n",
    "<br><div align=\"center\"><img src=\"http://drive.google.com/uc?export=view&id=0ByQ4VmO-MwEEaERhMUpIekNObFk\"></div>\n",
    "\n",
    "*copy* this public key value somewhere and *save* both your public and private key files to `%USERPROFILE%/.ssh`"
   ]
  },
  {
   "cell_type": "markdown",
   "metadata": {},
   "source": [
    "## 5.3: get the public key value\n",
    "\n",
    "a properly formatted `openssh` public key suitable for an `authorized_keys` file will look like\n",
    "\n",
    "```\n",
    "ssh-rsa AAAAB3NzaC1yc2EAAAADAQABAAABAQCcPZIwNUzBD4jufWUPBLVzQRkPLRoJqMYgHUTH+7fdCvYGMMx+WiamyncGzcsMZpcSWDbGlCEuo//NTSc2CSS0jdgsDhBHHZ14kHO5A5zThrmNw0v/D9AH/BaE1B8ls++iDE2SmLMEQIAVD4IfmdWfkCwZaQto6hIb4XUXED/Jz8dWzG4opOpfgNMDiYK31y5qhgZQidaSdUNNOxBoCPaemHURp5SwBm+sbTnTQH4oza/FPkd24G3Ruh9TGIoBB5FGu+Qcz1tuGbk+8Iy6oWmWFa+Z+XtTpUbs5XHjptcbI5xXVsPdg360vK+drCWkJEvdIBEzQXwHDif985oX37rT zlamberty@megaman\n",
    "```\n",
    "\n",
    "copy your public key value (see the instructions in the prior step). you will give it to us on a later exercise.\n",
    "\n",
    "remember: ***NEVER GIVE ANYONE THAT PRIVATE KEY!!!***\n",
    "\n",
    "##### there is nothing to submit here"
   ]
  },
  {
   "cell_type": "markdown",
   "metadata": {},
   "source": [
    "<div style=\"border: 1px solid lightgrey;\">"
   ]
  },
  {
   "cell_type": "markdown",
   "metadata": {},
   "source": [
    "# exercise 6: set up your login to *my* `ec2` instance\n",
    "\n",
    "let's play a game of \"working with the customer's sysad / IT people to set up our connection to their linux machine at the start of our project or maybe not until week 10 yolo\".\n",
    "\n",
    "I want to give you access to my `ec2` instance. being a good system administrator, I know exactly what I need from you:\n",
    "\n",
    "1. the `ip` address from which you want to connect (http://lmgtfy.com/?q=what+is+my+ip)\n",
    "1. the `openssh`-formatted **public** (not private) key from exercise 5 (see the formatting just above)\n",
    "\n",
    "you will send this to us in an email (see submission instructions below), and we will respond to you with an email notifying you that you should have access to our `ec2` instance. we will provide you with\n",
    "\n",
    "+ the server url\n",
    "+ your user name\n",
    "\n",
    "this information will be enough -- right?\n",
    "\n",
    "\n",
    "##### email us your `ip` address and your `openssh`-formatted public key"
   ]
  },
  {
   "cell_type": "markdown",
   "metadata": {},
   "source": [
    "<div style=\"border: 1px solid lightgrey;\">"
   ]
  },
  {
   "cell_type": "markdown",
   "metadata": {},
   "source": [
    "# exercise 7: walk through the `ssh` demo notebook with a partner\n",
    "\n",
    "Partner up with some one else in class and walk through the neighboring [`ssh_keys` notebook](https://colab.research.google.com/github/rzl-ds/gu511_hw/blob/master/ssh_keys.ipynb).\n",
    "\n",
    "Note: there are a few ways to run the `ssh_keys.ipynb` notebook.\n",
    "\n",
    "1. easiest: the above link will take you to a google \"colab\" notebook browser, so just run it there\n",
    "    1. sign in to google with your `georgetown.edu` account\n",
    "    1. click the \"OPEN IN PLAYGROUND\" button in the top right. this will give you a working `python` session\n",
    "    1. run cells by selecting them and pressing \"SHIFT + ENTER\", or clicking the play buttons\n",
    "1. `python` and `jupyter` pro: download the file (\"File > Download .ipynb\") and run it in a local `jupyter notebook` server session\n",
    "\n",
    "##### there's nothing to submit here, this is just a walkthrough"
   ]
  },
  {
   "cell_type": "markdown",
   "metadata": {},
   "source": [
    "<div style=\"border: 1px solid lightgrey;\">"
   ]
  },
  {
   "cell_type": "markdown",
   "metadata": {},
   "source": [
    "# exercise 8: decoding *our* message\n",
    "\n",
    "using the [`ssh_keys` notebook](https://colab.research.google.com/github/rzl-ds/gu511_hw/blob/master/ssh_keys.ipynb) from exercise 7, decode *our* message.\n",
    "\n",
    "we will be using the `RSA` encryption algorithm, so follow along with the \"making it a bit harder: RSA\" section in that notebook. We are acting as PARTNER 2; you are PARTNER 1."
   ]
  },
  {
   "cell_type": "markdown",
   "metadata": {},
   "source": [
    "## 8.1: setting up your \"public / private\" key\n",
    "\n",
    "make sure `p` and `q` are left as is:\n",
    "\n",
    "```python\n",
    "p = 1987\n",
    "q = 13\n",
    "```\n",
    "\n",
    "make sure that the value of `e` is also left as is:\n",
    "\n",
    "```python\n",
    "e = 451\n",
    "```\n",
    "\n",
    "if everything is set up correctly, at the end of section 2.1.1.1 in `ssh_keys.ipynb` you will read\n",
    "\n",
    "```\n",
    "MY PUBLIC KEYS ARE\n",
    "  n = 25831\n",
    "  e = 451 (e is for \"encryption\")\n",
    "\n",
    "MY PRIVATE KEYS ARE\n",
    "  n = 25831\n",
    "  d = 1735 (d is for \"decryption\")\n",
    "\n",
    "I should also keep the following secret, because they could be used to calculate d:\n",
    "  p = 1987\n",
    "  q = 13\n",
    "  lambdaN = 3972\n",
    "```"
   ]
  },
  {
   "cell_type": "markdown",
   "metadata": {},
   "source": [
    "## 8.2: receiving an encrypted message\n",
    "\n",
    "We have encoded a message using using your public key information, and the encrypted version of our message is:\n",
    "\n",
    "```\n",
    "24377\n",
    "```\n",
    "\n",
    "what was our original message (a number)? run through `ssh_keys.ipynb` section 2.1.3 to get this"
   ]
  },
  {
   "cell_type": "markdown",
   "metadata": {},
   "source": [
    "<div style=\"border: 1px solid lightgrey;\">"
   ]
  },
  {
   "cell_type": "markdown",
   "metadata": {},
   "source": [
    "# exercise 9: course topic survey\n",
    "\n",
    "go fill out the following survey on your relative interest and experiences in the topics we may cover in this course:\n",
    "\n",
    "https://forms.gle/f4Q1YPwYTPV5pA9M8"
   ]
  },
  {
   "cell_type": "markdown",
   "metadata": {},
   "source": [
    "<div style=\"border: 1px solid lightgrey;\">"
   ]
  },
  {
   "cell_type": "markdown",
   "metadata": {},
   "source": [
    "# [OPTIONAL] further reading: read this excellent `dns` explainer\n",
    "\n",
    "this exercise is optional and will not be graded / scored.\n",
    "\n",
    "in class we discussed how your `ec2` instance has a public `ip` address and a \"`dns`\" -- what is a `dns`?\n",
    "\n",
    "read [this cute little explainer on how `dns` works](https://howdns.works/ep1/). I'd estimate it takes about 20 minutes to read, but gives an excellent overview of some of the magic of internet communication"
   ]
  },
  {
   "cell_type": "markdown",
   "metadata": {},
   "source": [
    "<div style=\"border: 1px solid lightgrey;\">"
   ]
  }
 ],
 "metadata": {
  "kernelspec": {
   "display_name": "Python 3",
   "language": "python",
   "name": "python3"
  },
  "language_info": {
   "codemirror_mode": {
    "name": "ipython",
    "version": 3
   },
   "file_extension": ".py",
   "mimetype": "text/x-python",
   "name": "python",
   "nbconvert_exporter": "python",
   "pygments_lexer": "ipython3",
   "version": "3.7.3"
  },
  "toc": {
   "base_numbering": 1,
   "nav_menu": {},
   "number_sections": true,
   "sideBar": true,
   "skip_h1_title": false,
   "title_cell": "Table of Contents",
   "title_sidebar": "Contents",
   "toc_cell": false,
   "toc_position": {},
   "toc_section_display": true,
   "toc_window_display": false
  }
 },
 "nbformat": 4,
 "nbformat_minor": 2
}
