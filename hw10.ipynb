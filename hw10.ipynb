{
 "cells": [
  {
   "cell_type": "markdown",
   "metadata": {},
   "source": [
    "<a href=\"https://colab.research.google.com/github/rzl-ds/gu511_hw/blob/master/hw10.ipynb\" target=\"_parent\">\n",
    "    <img src=\"https://colab.research.google.com/assets/colab-badge.svg\"/>\n",
    "</a>"
   ]
  },
  {
   "cell_type": "markdown",
   "metadata": {},
   "source": [
    "# Exercises due by EOD 2020.11.20"
   ]
  },
  {
   "cell_type": "markdown",
   "metadata": {},
   "source": [
    "## goal"
   ]
  },
  {
   "cell_type": "markdown",
   "metadata": {},
   "source": [
    "in this homework assignment we query `redshift`, work with the `tensorflow` and `keras` deep learning frameworks, look at the acceleration capable when using `gpu`s, and stay `commit`ted to our `git` work"
   ]
  },
  {
   "cell_type": "markdown",
   "metadata": {},
   "source": [
    "## method of delivery"
   ]
  },
  {
   "cell_type": "markdown",
   "metadata": {},
   "source": [
    "*as mentioned in our first lecture, the method of delivery may change from assignment to assignment. we will include this section in every assignment to provide an overview of how we expect homework results to be submitted, and to provide background notes or explanations for \"new\" delivery concepts or methods.*"
   ]
  },
  {
   "cell_type": "markdown",
   "metadata": {},
   "source": [
    "this week you will be submitting the results of your homework by uploading files to your `s3` homework submission bucket and committing to your `github` repo\n",
    "\n",
    "summary:\n",
    "\n",
    "| exercise | deliverable | method of delivery | points |\n",
    "|----------|-------------|--------------------|--------|\n",
    "| 1 | none | none | 5 |\n",
    "| 2 | a file named `wmata_redshift.sql` | uploaded to your `s3` homework submission bucket | 15 |\n",
    "| 3 | a file named `redshift.py` | uploaded to your `s3` homework submission bucket | 5 |\n",
    "| 4 | a file named `tf-environment.yml` | uploaded to your `s3` homework submission bucket | 5 |\n",
    "| 5 | a conflict-resolving `merge` commit | pushed to your shared `github` repo | 5 |\n",
    "\n",
    "total points: 35"
   ]
  },
  {
   "cell_type": "markdown",
   "metadata": {},
   "source": [
    "<div style=\"border: 1px solid lightgrey;\">"
   ]
  },
  {
   "cell_type": "markdown",
   "metadata": {},
   "source": [
    "# exercise 1: requesting an `ec2` instance limit increase"
   ]
  },
  {
   "cell_type": "markdown",
   "metadata": {},
   "source": [
    "## 1.1: `ec2` instance limits \n",
    "\n",
    "by default, `ec2` limits the number of instances you can have active simultaneously -- this limit is available to you on the `ec2` console as a \"Limits\" dashboard (found in the left nav bar).\n",
    "\n",
    "for most new accounts, the default limit for GPU accelerated instances (in `ec2` world, the `p2`, `p3`, and `p4` family of instance types) has traditionally been 0 -- let's check and see if that's the case for you as well.\n",
    "\n",
    "+ go to [the `ec2` instance limit console](https://console.aws.amazon.com/ec2/home?region=us-east-1#Limits:)\n",
    "+ make sure you've selected the us-east-1 region\n",
    "+ search for \"Running On-Demand All P instances\"\n",
    "+ check the value in the Current limit column\n",
    "    + it should be `N vCPUs`, where `N` is a number\n",
    "    + **is `N >= 8`?"
   ]
  },
  {
   "cell_type": "markdown",
   "metadata": {},
   "source": [
    "## 1.2: requesting a limit increase\n",
    "\n",
    "if your limit was greater than or equal to 8, you're done!\n",
    "\n",
    "otherwise, click the `p3` line and click the \"Request limit increase\" button\n",
    "\n",
    "<br><div align=\"center\"><img src=\"http://drive.google.com/uc?export=view&id=1GPVy09EWfT2ymH_1JqK0Q21CSFujprw4\" width=\"1000px\"></div>\n",
    "\n",
    "on the limit increase request form page,\n",
    "\n",
    "+ change the \"Limit Type\" to \"EC2 instances\"\n",
    "    + `aws` \"conveniently\" defaults to *dedicated* instances. you want to buy yourself your own `p3` instance? go for it!! I wouldn't recommend it though\n",
    "+ set the region to be \"US East (Northern Virginia)\"\n",
    "+ set the primary instance type to be \"All P instances\"\n",
    "+ set a limit value of 8\n",
    "+ for \"Case Description\", put whatever you want. e.g., \"I am learning to use GPU acceleration as part of the Georgetown University Math and Statistics Masters Program\"\n",
    "\n",
    "<br><div align=\"center\"><img src=\"http://drive.google.com/uc?export=view&id=1euNbvCVHrUCVD_E8BOKRx46_UW02kcq_\" width=\"1000px\"></div>\n",
    "\n",
    "##### there is nothing to submit here"
   ]
  },
  {
   "cell_type": "markdown",
   "metadata": {},
   "source": [
    "<div style=\"border: 1px solid lightgrey;\">"
   ]
  },
  {
   "cell_type": "markdown",
   "metadata": {},
   "source": [
    "# exercise 2: wmata data: querying\n",
    "\n",
    "*note: if you are stuck on the previous two questions and unable to create your own `trainpositions` table, I have a `redshift` cluster you may connect to and query to complete this portion. the connection information will be sent to you as part of the homework announcement email*\n",
    "\n",
    "at this point you should be free to query these records.\n",
    "\n",
    "I have created a skeleton `sql` file located at https://s3.amazonaws.com/shared.rzl.gu511.com/wmata_redshift.sql, and you can download it programmatically with\n",
    "\n",
    "```sh\n",
    "wget https://s3.amazonaws.com/shared.rzl.gu511.com/wmata_redshift.sql\n",
    "```\n",
    "\n",
    "download that file and edit it to replace any block like\n",
    "\n",
    "```sql\n",
    "-- FILL THIS IN !!!\n",
    "-- FILL THIS IN !!!\n",
    "-- FILL THIS IN !!!\n",
    "```\n",
    "\n",
    "with a single `sql` query (i.e. one `SELECT ... FROM`). as a guide, I have provided the output of the first three expected rows of the properly structured query. if you write the correct query, it should return those records\n",
    "\n",
    "*note: if any queries are not explicitly `order`ed, the randomness of distribution of records might mean you get different values. I will try to be explicit about that, but reach out if you think you did things correctly and still have different items*\n",
    "\n",
    "\n",
    "##### upload your filled-in `wmata_redshift.sql` file to your s3 homework submission bucket"
   ]
  },
  {
   "cell_type": "markdown",
   "metadata": {},
   "source": [
    "<div style=\"border: 1px solid lightgrey;\">"
   ]
  },
  {
   "cell_type": "markdown",
   "metadata": {},
   "source": [
    "# exercise 3: conneting to `redshift` from `python`\n",
    "\n",
    "under the hood, `redshift` is just a glorified fork of `postgres` -- we can connect to it in exactly the same way we connected to our `postgres` `rds` instances previously."
   ]
  },
  {
   "cell_type": "markdown",
   "metadata": {},
   "source": [
    "## 3.1: collect connection information\n",
    "\n",
    "from your `redshift` cluster's description page, grab the following information:\n",
    "\n",
    "+ host name\n",
    "    + note: this is *basically* the `endpoint`, but the `endpoint` contains the `port` and `dbname`, e.g.\n",
    "        + my endpoint: `gu511-shared-hw.csneoatl4kff.us-east-1.redshift.amazonaws.com:5439/dev`\n",
    "        + my host name: `gu511-shared-hw.csneoatl4kff.us-east-1.redshift.amazonaws.com`\n",
    "+ port\n",
    "+ user name\n",
    "+ database name\n",
    "\n",
    "<br><div align=\"center\"><img src=\"http://drive.google.com/uc?export=view&id=1BwLL-ZKvRrxQyLl3-qeNZMErk6MTTQBt\" width=\"1000px\"></div><br>\n",
    "\n",
    "you will also need the password, but that you have to remember!"
   ]
  },
  {
   "cell_type": "markdown",
   "metadata": {},
   "source": [
    "## 3.2: make a connection\n",
    "\n",
    "using the information above, fill in the following `python` code and save the results as `redshift.py`\n",
    "\n",
    "```python\n",
    "import getpass\n",
    "\n",
    "import pandas as pd\n",
    "import sqlalchemy\n",
    "\n",
    "def query_redshift(q, host, port, username, password, dbname):\n",
    "    # use sqlalchemy to create an engine\n",
    "    # ---------------- #\n",
    "    # FILL THIS IN !!! #\n",
    "    # ---------------- #\n",
    "    \n",
    "    # execute the query using pandas\n",
    "    # ---------------- #\n",
    "    # FILL THIS IN !!! #\n",
    "    # ---------------- #\n",
    "    \n",
    "    # return the dataframe we just created\n",
    "    return df\n",
    "\n",
    "\n",
    "def test(host, port, username, password, dbname):\n",
    "    q = \"\"\"SELECT * \n",
    "    FROM pg_table_def \n",
    "    WHERE tablename = 'trainpositions'\"\"\" \n",
    "    df = query_redshift(q, host, port, username, password, dbname)\n",
    "    \n",
    "    assert df.shape == (9, 8)\n",
    "    try:\n",
    "        assert df.iloc[6].type == 'character varying(100)'\n",
    "    except AssertionError:\n",
    "        print('what sql datatype did you use for the servicetype field?')\n",
    "        raise\n",
    "\n",
    "\n",
    "if __name__ == '__main__':\n",
    "    test(host=input('endpoint: '),\n",
    "         port=5439,\n",
    "         username=input('user name: '),\n",
    "         password=getpass.getpass('password: '),\n",
    "         dbname=input('dbanme: '))\n",
    "    print('success!')\n",
    "```\n",
    "\n",
    "test that it works by running `python redshift.py` from a bash session (must be an environment with `sqlalchemy` and `pandas` installed, your `ec2` is fine for this. fill in the prompted items. if everything is correct, you should see `success!` output; otherwise you will see an error message.\n",
    "\n",
    "e.g., I saw\n",
    "\n",
    "```\n",
    "zach.lamberty@Zachs-MBP-2:/tmp$ python redshift.py\n",
    "endpoint: gu511-shared-hw.csneoatl4kff.us-east-1.redshift.amazonaws.com         \n",
    "user name: awsuser\n",
    "password: \n",
    "dbanme: dev\n",
    "success!\n",
    "```\n",
    "\n",
    "##### upload your `redshift.py` file to your s3 homework submission bucket"
   ]
  },
  {
   "cell_type": "markdown",
   "metadata": {},
   "source": [
    "<div style=\"border: 1px solid lightgrey;\">"
   ]
  },
  {
   "cell_type": "markdown",
   "metadata": {},
   "source": [
    "# exercise 4: install `tensorflow` on an `ec2` instance\n",
    "\n",
    "on your regular (non) `gpu` instance`ec2` instance, let's install the *non-`gpu`* `tensorflow` package (using `pip`) into a new `conda` environment\n",
    "\n",
    "+ use `conda` to create a new `conda` environment\n",
    "    + name: `tf`\n",
    "    + `python` version:  3.8\n",
    "+ activate that environment\n",
    "+ install `tensorflow` using `pip` (not `conda install`) via\n",
    "    + `pip install --upgrade tensorflow`\n",
    "\n",
    "when you install tensorflow, you may see something like:\n",
    "    \n",
    "```\n",
    "Collecting tensorflow\n",
    "  Downloading tensorflow-2.3.1-cp38-cp38-manylinux2010_x86_64.whl (320.5 MB)\n",
    "\n",
    "     |████████████████████████████████| 320.5 MB 42.4 MB/s eta 0:00:01Killed\n",
    "```\n",
    "\n",
    "note the `Killed` at the end, there. if you see that, try again to install via\n",
    "\n",
    "```sh\n",
    "pip install --upgrade tensorflow --no-cache-dir\n",
    "```\n",
    "\n",
    "at the end of this process you should be able to run the following commands and see the corresponding output\n",
    "\n",
    "| command | output|\n",
    "|-|-|\n",
    "| `python --version` | `Python 3.8.0` (or higher) |\n",
    "| `python -c 'import tensorflow; print(tensorflow.__version__)'` | two long log message lines, then `2.3.1` (or higher) |\n",
    "\n",
    "\n",
    "if everything works as expected, export that environment via `conda env export > environment.yml`\n",
    "\n",
    "##### upload your `tf-environment.yml` function to your s3 homework submission bucket"
   ]
  },
  {
   "cell_type": "markdown",
   "metadata": {},
   "source": [
    "<div style=\"border: 1px solid lightgrey;\">"
   ]
  },
  {
   "cell_type": "markdown",
   "metadata": {},
   "source": [
    "# exercise 5: `merge` two `branch`es with overlapping edits to the same file: a `CONFLICT`!"
   ]
  },
  {
   "cell_type": "markdown",
   "metadata": {},
   "source": [
    "## 5.1: make a local update to `README.md`\n",
    "\n",
    "you, continuing your unblemished record of being astute and dilligent, notice that we never added a description of the `dspipeline.py` file to our `README.md`. you decide to update that.\n",
    "\n",
    "update `README.md` to read:\n",
    "\n",
    "```\n",
    "# 511 github repo\n",
    "\n",
    "the primary function of this repo is to develop `git` skills over the course of the year.\n",
    "\n",
    "## repository contents\n",
    "\n",
    "+ `helloworld.py`\n",
    "    + run with `python helloworld.py`\n",
    "    + this will greet you and then tell you the current time\n",
    "+ `rzl.py`\n",
    "    + run with `python rzl.py`\n",
    "    + this will offer you the ramblings of a teacher who thinks he is funnier than he is\n",
    "+ `dspipeline.py`\n",
    "    + a file containing some utilities for building data science pipelines, and an example that trains several models on adult salary data and selects the best based on cross validated metrics\n",
    "```"
   ]
  },
  {
   "cell_type": "markdown",
   "metadata": {},
   "source": [
    "## 5.2: update `master`\n",
    "\n",
    "`add` this change, `commit` it with a message `README: including dspipeline description`, and `push` to `github`"
   ]
  },
  {
   "cell_type": "markdown",
   "metadata": {},
   "source": [
    "## 5.3: fetch my new `branch`\n",
    "\n",
    "after pushing to `master` and checking on `github`, you notice that I have sneakily added my *own* updates to `README.md` as a new `branch` called `yolo`.\n",
    "\n",
    "use `git fetch --all` to create a mirror repository of that `branch`.\n",
    "\n",
    "*note: this branch will be pushed on Saturday afternoon to make sure all users have had time to update their `github` repos from the previous assignment*"
   ]
  },
  {
   "cell_type": "markdown",
   "metadata": {},
   "source": [
    "## 5.4: `merge` my changes in with yours\n",
    "\n",
    "use [`git merge`](https://git-scm.com/docs/git-merge) to `merge` the change that I made on the `yolo` branch into `master`. \n",
    "\n",
    "`git` will do it's `diff`-calculating magic and realize it can't simply combine the edits like it did last time. you get\n",
    "\n",
    "```sh\n",
    "git merge yolo\n",
    "```\n",
    "```\n",
    "Auto-merging README.md\n",
    "CONFLICT (content): Merge conflict in README.md\n",
    "Automatic merge failed; fix conflicts and then commit the result.\n",
    "```\n",
    "\n",
    "ugh seriously zach... it's just... like, some communication would be appreciated. some effort."
   ]
  },
  {
   "cell_type": "markdown",
   "metadata": {},
   "source": [
    "## 5.5: resolve the `CONFLICT`\n",
    "\n",
    "if you check `git status` right now, you will be informed that there are conflicts in the `merge` process:\n",
    "\n",
    "```sh\n",
    "git merge\n",
    "```\n",
    "\n",
    "```\n",
    "On branch master\n",
    "Your branch is up to date with 'origin/master'.\n",
    "\n",
    "You have unmerged paths.\n",
    "  (fix conflicts and run \"git commit\")\n",
    "  (use \"git merge --abort\" to abort the merge)\n",
    "\n",
    "Unmerged paths:\n",
    "  (use \"git add <file>...\" to mark resolution)\n",
    "\n",
    "\tboth modified:   README.md\n",
    "\n",
    "no changes added to commit (use \"git add\" and/or \"git commit -a\")\n",
    "```\n",
    "\n",
    "let's listen to `git` -- let's fix conflicts in our file and then `git commit`\n",
    "\n",
    "in an editor, open `README.md` and look for conflicts (demarked by `<<<<<<< HEAD` and `>>>>>>> yolo`). edit that entire section between those two pieces to include the lines that you think are appropriate (that is, yours).\n",
    "\n",
    "after you've edited, run `add` the edited `CONFLICT`-less file and `commit` it with message `README: zach is not even trying any more`\n",
    "\n",
    "\n",
    "`push` the updated `master` `branch` to `github`\n",
    "\n",
    "##### nothing to submit, we will see your merge commit"
   ]
  },
  {
   "cell_type": "markdown",
   "metadata": {},
   "source": [
    "<div style=\"border: 1px solid lightgrey;\">"
   ]
  }
 ],
 "metadata": {
  "kernelspec": {
   "display_name": "Python 3",
   "language": "python",
   "name": "python3"
  },
  "language_info": {
   "codemirror_mode": {
    "name": "ipython",
    "version": 3
   },
   "file_extension": ".py",
   "mimetype": "text/x-python",
   "name": "python",
   "nbconvert_exporter": "python",
   "pygments_lexer": "ipython3",
   "version": "3.7.3"
  },
  "toc": {
   "base_numbering": 1,
   "nav_menu": {},
   "number_sections": true,
   "sideBar": true,
   "skip_h1_title": false,
   "title_cell": "Table of Contents",
   "title_sidebar": "Contents",
   "toc_cell": false,
   "toc_position": {},
   "toc_section_display": true,
   "toc_window_display": false
  }
 },
 "nbformat": 4,
 "nbformat_minor": 2
}
