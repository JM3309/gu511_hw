{
 "cells": [
  {
   "cell_type": "markdown",
   "metadata": {},
   "source": [
    "<a href=\"https://colab.research.google.com/github/rzl-ds/gu511_hw/blob/master/hw06.answers.ipynb\" target=\"_parent\">\n",
    "    <img src=\"https://colab.research.google.com/assets/colab-badge.svg\"/>\n",
    "</a>"
   ]
  },
  {
   "cell_type": "markdown",
   "metadata": {},
   "source": [
    "# Exercises due by EOD 2020.10.23"
   ]
  },
  {
   "cell_type": "markdown",
   "metadata": {},
   "source": [
    "## goal"
   ]
  },
  {
   "cell_type": "markdown",
   "metadata": {},
   "source": [
    "in this homework assignment we will work with http requests and web scraping, as well as continue developing our `github` repos"
   ]
  },
  {
   "cell_type": "markdown",
   "metadata": {},
   "source": [
    "## method of delivery"
   ]
  },
  {
   "cell_type": "markdown",
   "metadata": {},
   "source": [
    "*as mentioned in our first lecture, the method of delivery may change from assignment to assignment. we will include this section in every assignment to provide an overview of how we expect homework results to be submitted, and to provide background notes or explanations for \"new\" delivery concepts or methods.*"
   ]
  },
  {
   "cell_type": "markdown",
   "metadata": {},
   "source": [
    "this week you will be submitting most of the results of your homework via you `github` repo as well as attachments to an email.\n",
    "\n",
    "+ subject: **\"hw06 answers\"**\n",
    "+ to: rzl5@georgetown.edu, ip221@georgetown.edu\n",
    "\n",
    "summary:\n",
    "\n",
    "| exercise | deliverable | method of delivery | points |\n",
    "|----------|-------------|--------------------|--------|\n",
    "| 1 | a `python` file `christopher_walkin.py` | attached to your submission email | 10 |\n",
    "| 2 | a file `xpath_and_css.csv` | attached to your submission email | 4 |\n",
    "| 3 | a file `hacker_news_selectors.csv` | attached to your submission email | 4 |\n",
    "| 4 | a file `I_POST_the_gist.py` | attached to your submision email | 7 |\n",
    "| 5 | a file `lebron_is_goat.py` | attached to your submission email | 7 |\n",
    "| 6 | a `merge` commit | `commit` is `push`ed to `github` | 5 |\n",
    "| 7 | a `google` survey | fill it out online | 3 |\n",
    "\n",
    "total points: 40"
   ]
  },
  {
   "cell_type": "markdown",
   "metadata": {},
   "source": [
    "<div style=\"border: 1px solid lightgrey;\">"
   ]
  },
  {
   "cell_type": "markdown",
   "metadata": {},
   "source": [
    "# exercise 1: google maps `json api`\n",
    "\n",
    "let's use [the google maps directions `api`](https://developers.google.com/maps/documentation/directions/start) (itself one of [many, many open `api`s from google](https://developers.google.com/maps/documentation/)) to calculate the travel time from any arbitrary location to the washington monument"
   ]
  },
  {
   "cell_type": "markdown",
   "metadata": {},
   "source": [
    "## 1.1: not spending a billion dollars\n",
    "\n",
    "before using any `api`, you should double-check the usage limits and pricing model. `google` is usually pretty friendly to small hacking projects, so we should be okay -- but let's make sure.\n",
    "\n",
    "head over to [the directions `api` usage limits documentation](https://developers.google.com/maps/documentation/directions/usage-limits) and determine how `google` charges users for `api` calls. try and answer the following questions:\n",
    "\n",
    "1. is any amount of access free? or does it all cost some amount of money?\n",
    "1. who is charged, the user or someone else?\n",
    "1. how does `google` know who to charge?\n",
    "\n",
    "\n",
    "**actually think about it!**\n",
    "\n",
    "thought about it? here are the answers:\n",
    "\n",
    "1. `google` charges users 0.005 USD per each `api` call\n",
    "1. I have created an account and am using the 300 USD promotional credit that comes with it -- this means we collectively have 60,000 calls left before I start paying. please don't do this homework question 1000s of times.\n",
    "1. `google` associates requests to an individual's `google` account by using an **api key** -- a unique string"
   ]
  },
  {
   "cell_type": "markdown",
   "metadata": {},
   "source": [
    "## 1.2: getting an `api` key\n",
    "\n",
    "many applications require users to create `api` keys as a way of authenticating requests. this serves several purposes:\n",
    "\n",
    "1. security: if you notice malicious actors, you have a way of shutting them down immediately\n",
    "2. audit: you have a record of exactly who made every request, which is useful for retrospective analysis of usage, malicious action, etc.\n",
    "3. throttling and resource management: you can identify major consumers of your resource and quantify how much they are taxing your resources\n",
    "4. the big one: **billing**. in this instance, the key tells `google` who to charge\n",
    "\n",
    "let's head to the [google api key page](https://developers.google.com/maps/documentation/directions/get-api-key) (**don't** press any buttons yet, folks) and read up a bit on it. if you wanted to use the api, you'd need to *activate* it for your account and get an *api key* from `google`.\n",
    "\n",
    "in the email announcing this assignment, I sent you my `api` key. I considered posting it as a `gist` but decided against it in order to keep it at least semi-private. *this is a password!!* -- it really shouldn't be shared, let alone public. this is a violation of a best practice to save you all a few bucks!\n",
    "\n",
    "if you are interested in spending a couple of cents to set up *your own* api, send me an email at rzl15@georgetown.edu"
   ]
  },
  {
   "cell_type": "markdown",
   "metadata": {},
   "source": [
    "## 1.3: read the flipping manual\n",
    "\n",
    "really, go read it: https://developers.google.com/maps/documentation/directions/intro"
   ]
  },
  {
   "cell_type": "markdown",
   "metadata": {},
   "source": [
    "## 1.4: making a simple `GET` request: browser\n",
    "\n",
    "the example directions request in the documentation is\n",
    "\n",
    "```\n",
    "https://maps.googleapis.com/maps/api/directions/json?origin=Toronto&destination=Montreal&key=YOUR_API_KEY\n",
    "```\n",
    "\n",
    "replace `YOUR_API_KEY` above with the `api` key value I emailed to you and try launching it in your web browser. please don't refresh this 1000 times.\n",
    "\n",
    "you should receive a `json` representation of the path that `google` recommends you use to travel (`driving`, by default) from Toronto to Montreal"
   ]
  },
  {
   "cell_type": "markdown",
   "metadata": {},
   "source": [
    "## 1.5: making a simple `GET` requests: `python` browser\n",
    "\n",
    "translate the above url into a `python requests` library `GET` request. verify that the `json()` element of the returned response item is the same as the `json` that is returned via the browser. that is, write code like\n",
    "\n",
    "```python\n",
    "response = # FILL THIS PART IN\n",
    "\n",
    "response.json()  # look at this\n",
    "```\n",
    "\n",
    "the thing you get from `response.json()` should be a python object (`list`s and `dict`s). figure out how to take the compound `dict` and `list` object the `requests` library returns and extract the numerical `value` of the `duration` of the trip (the duration of the trip in seconds). depending on the route `google` recommends, this could change slightly. when I ran it just now, I saw\n",
    "\n",
    "```python\n",
    "...\n",
    "duration: {\n",
    "    text: \"5 hours 21 mins\",\n",
    "    value: 19235\n",
    "},\n",
    "...\n",
    "```\n",
    "\n",
    "you should be able to get the numeric value assocated with that `value` key, and it should be on the order of 19,000."
   ]
  },
  {
   "cell_type": "markdown",
   "metadata": {},
   "source": [
    "## 1.6: making a simple function\n",
    "\n",
    "suppose we love throwing away all that beautiful data, and the only thing we care about is the trip duration in seconds. furthermore, let's assume we\n",
    "\n",
    "1. always want to walk (not drive)\n",
    "2. are always heading to \"The Washington Monument\" (whatever and wherever google thinks that is)\n",
    "\n",
    "fill in the body of the below function, and save the contents in a file `christopher_walkin.py`:\n",
    "\n",
    "```python\n",
    "#!/usr/bin/env python\n",
    "# -*- coding: utf-8 -*-\n",
    "\n",
    "\"\"\"\n",
    "Module: christopher_walkin.py\n",
    "\"\"\"\n",
    "\n",
    "import requests\n",
    "\n",
    "\n",
    "def walk_to_washington_monument(origin, apikey):\n",
    "    \"\"\"take an origin string (an address, place id, or lat,lon pair (even \n",
    "    lat,lon is a string)) and an api key, and return the time it would take to \n",
    "    *walk* from there. the destination parameter has value\n",
    "    \"The Washington Monument\"\n",
    "    \n",
    "    \"\"\"\n",
    "    # make the request (destination is \"The Washington Monument\", mode is walking)\n",
    "    #---------------#\n",
    "    # FILL ME IN!!! #\n",
    "    #---------------#\n",
    "    \n",
    "    # extract the entire json dictionary from the response object we received\n",
    "    #---------------#\n",
    "    # FILL ME IN!!! #\n",
    "    #---------------#\n",
    "    \n",
    "    # extract the duration from the json response dictionary\n",
    "    #---------------#\n",
    "    # FILL ME IN!!! #\n",
    "    #---------------#\n",
    "    \n",
    "    return duration\n",
    "```\n",
    "\n",
    "once you have this general function working, try it out. for example, open a `python` session and try\n",
    "\n",
    "```python\n",
    "from christopher_walkin import walk_to_washington_monument\n",
    "\n",
    "walk_to_washington_monument('US Capital Building', apikey=YOUR_API_KEY)\n",
    "walk_to_washington_monument('New York, NY', apikey=YOUR_API_KEY)\n",
    "```\n",
    "\n",
    "do the answers you get make sense? could you actually walk from NY, NY to DC in that amount of time (remember, time here is reported in seconds)? if not, you may want to double-check your function definition."
   ]
  },
  {
   "cell_type": "markdown",
   "metadata": {},
   "source": [
    "### 1.6.1: a static unit test\n",
    "\n",
    "try running\n",
    "\n",
    "```python\n",
    "walk_to_washington_monument(\"St Mary's Hall Georgetown\", apikey=YOUR_API_KEY)\n",
    "```\n",
    "\n",
    "you should get something close to (but not necessarily exactly) 3679.\n",
    "\n",
    "do you? if not, you might want need to double check your  investigate your function further\n",
    "\n",
    "I considered making the above test (distance from St. Mary's to the monument) into a \"unit test\" -- that is, I was going to demand that any function you wrote returned a certain value as a requirement for being correctly defined.\n",
    "\n",
    "this is a best practice for developing software -- develop specifications which enumerate a concrete, permanent behavior, and make sure that your functions deterministically reproduce that expected behavior every time.\n",
    "\n",
    "after thinking about it, though, I realized this was actually not a good unit test. \n",
    "\n",
    "why might this be a bad unit test?\n",
    "\n",
    "\n",
    "###### attach `christopher_walkin.py` to your homework submission email"
   ]
  },
  {
   "cell_type": "markdown",
   "metadata": {},
   "source": [
    "# exercise 1: google maps `json api` <span style=\"color:red;font-weight:bold\">ANSWERS</span>"
   ]
  },
  {
   "cell_type": "code",
   "execution_count": null,
   "metadata": {},
   "outputs": [],
   "source": [
    "import requests\n",
    "\n",
    "# FILL THIS IN\n",
    "apikey = fill_this_in\n",
    "\n",
    "def walk_to_washington_monument(origin, apikey):\n",
    "    resp = requests.get(url='https://maps.googleapis.com/maps/api/directions/json',\n",
    "                        params={'origin': origin,\n",
    "                                'destination': \"The Washington Monument\",\n",
    "                                'mode': 'walking',\n",
    "                                'key': apikey, })\n",
    "    j = resp.json()\n",
    "    return j['routes'][0]['legs'][0]['duration']['value']"
   ]
  },
  {
   "cell_type": "code",
   "execution_count": null,
   "metadata": {},
   "outputs": [],
   "source": [
    "d = walk_to_washington_monument(\"St Mary's Hall Georgetown\", apikey=apikey)\n",
    "d"
   ]
  },
  {
   "cell_type": "markdown",
   "metadata": {},
   "source": [
    "<div style=\"border: 1px solid lightgrey;\">"
   ]
  },
  {
   "cell_type": "markdown",
   "metadata": {},
   "source": [
    "# exercise 2: `xpath` and `css` selectors in a controlled environment\n",
    "\n",
    "take the following `html` document (also [available via `s3`](https://s3.amazonaws.com/shared.rzl.gu511.com/example.html) if you want to use chrome or firefox Inspect mode):\n",
    "\n",
    "```html\n",
    "<html>\n",
    "    <head></head>\n",
    "    <body>\n",
    "        <div id=\"tablediv\">\n",
    "            <table id=\"important_table\" class=\"very_pretty\">\n",
    "                <thead>\n",
    "                    <tr>\n",
    "                        <th>column a</th>\n",
    "                        <th>column b</th>\n",
    "                        <th>column c</th>\n",
    "                    </tr>\n",
    "                </thead>\n",
    "                <tbody>\n",
    "                    <tr class=\"oddrow\">\n",
    "                        <td>1</td>\n",
    "                        <td>4</td>\n",
    "                        <td>5</td>\n",
    "                    </tr>\n",
    "                    <tr class=\"evenrow\">\n",
    "                        <td>0</td>\n",
    "                        <td>2</td>\n",
    "                        <td>4</td>\n",
    "                    </tr>\n",
    "                </tbody>\n",
    "            </table>\n",
    "            <ul>\n",
    "                <li>just to be tricky</li>\n",
    "            </ul>\n",
    "        </div>\n",
    "        <div id=\"list_div\">\n",
    "            <ul class=\"very_pretty\">\n",
    "                <li>hello</li>\n",
    "                <li class=\"active\">world</li>\n",
    "            </ul>\n",
    "            <ol class=\"kinda_ugly\">\n",
    "                <li>howya</li>\n",
    "                <li class=\"inactive\">doin</li>\n",
    "            </ol>\n",
    "        </div>\n",
    "    </body>\n",
    "</html>\n",
    "```\n",
    "\n",
    "you can create an `lxml` object of this webpage with the code\n",
    "\n",
    "```python\n",
    "import lxml.html\n",
    "import requests\n",
    "\n",
    "response = requests.get('https://s3.amazonaws.com/shared.rzl.gu511.com/example.html')\n",
    "root = lxml.html.fromstring(response.text)\n",
    "```\n",
    "\n",
    "in the following, there are no trick questions. there will always be at least one element selected in 1 and 2, and at least one valid path in 3 and 4. also, remember that you can enter these `xpath` (chrome only) and `css selector` (chrome and firefox (firefox has tab complete!)) expressions directly in the developer tools (highlight the html elements window and press `Ctrl + F` or `Command + F`). check the number of matches and to cycle through them"
   ]
  },
  {
   "cell_type": "markdown",
   "metadata": {},
   "source": [
    "## 2.1: selecting with `xpath`\n",
    "\n",
    "for each of the below `xpath` expressions, idenfity the number of elements matched by that expression:\n",
    "\n",
    "1. `/html/body/div/ul`\n",
    "2. `/html/body/div/ul/li`\n",
    "3. `/html/body/div/*/li`\n",
    "4. `/html/body/div/*/li[@class]`\n",
    "5. `/html/body/div/*/li[@class=\"active\"]`"
   ]
  },
  {
   "cell_type": "markdown",
   "metadata": {},
   "source": [
    "## 2.2: selecting with `css` selectors\n",
    "\n",
    "for each of the below `css` selectors, identify the number of elements matched by that expression:\n",
    "\n",
    "1. `tr`\n",
    "2. `tr.evenrow`\n",
    "3. `#important_table`\n",
    "4. `.very_pretty`\n",
    "5. `div > ul`"
   ]
  },
  {
   "cell_type": "markdown",
   "metadata": {},
   "source": [
    "## 2.3: developing `xpath` expressions\n",
    "\n",
    "for each of the below, develop the appropriate `xpath` expression\n",
    "\n",
    "1. use an *absolute* path with an `attr=val` check to select the element `<li class=\"active\">world</li>`\n",
    "2. use a non-absolute path to select that same element `<li class=\"active\">world</li>` which uses the `class` attribute\n",
    "3. select all `td` elements\n",
    "4. select all `td` element which are in a row with `class=\"evenrow\"` (that is, `td` elements which are children of `tr` with that `class`)\n",
    "5. select the `<table id=\"important_table\" class=\"very_pretty\">` element using its `class` attribute\n",
    "6. select the `<table id=\"important_table\" class=\"very_pretty\">` element using its `id` attribute"
   ]
  },
  {
   "cell_type": "markdown",
   "metadata": {},
   "source": [
    "## 2.4: developing `css` selectors\n",
    "\n",
    "now for each of the below, develop the appropriate `css` selector\n",
    "\n",
    "1. use a *direct descendant* and a class indicator to select only the element `<ul class=\"very_pretty\">`\n",
    "2. use an *any descendant* and an id indicator to select the four `<li>` elements in the *second* `div` block (the `id` indicator is to distinguish between `div` blocks)\n",
    "3. select all `td` elements\n",
    "4. select all `td` element which are in a row with `class=\"evenrow\"` (that is, `td` elements which are children of `tr` with that `class`)\n",
    "5. select the `<table id=\"important_table\" class=\"very_pretty\">` element using its `class` attribute\n",
    "6. select the `<table id=\"important_table\" class=\"very_pretty\">` element using its `id` attribute"
   ]
  },
  {
   "cell_type": "markdown",
   "metadata": {},
   "source": [
    "## 2.5: deliverable\n",
    "\n",
    "fill in the following table, save it as a `csv` with name `xpath_and_css.csv`\n",
    "\n",
    "\n",
    "| exercise | answer |\n",
    "|----------|--------|\n",
    "| x.1.1    |        |\n",
    "| x.1.2    |        |\n",
    "| x.1.3    |        |\n",
    "| x.1.4    |        |\n",
    "| x.1.5    |        |\n",
    "| x.2.1    |        |\n",
    "| x.2.2    |        |\n",
    "| x.2.3    |        |\n",
    "| x.2.4    |        |\n",
    "| x.2.5    |        |\n",
    "| x.3.1    |        |\n",
    "| x.3.2    |        |\n",
    "| x.3.3    |        |\n",
    "| x.3.4    |        |\n",
    "| x.3.5    |        |\n",
    "| x.3.6    |        |\n",
    "| x.4.1    |        |\n",
    "| x.4.2    |        |\n",
    "| x.4.3    |        |\n",
    "| x.4.4    |        |\n",
    "| x.4.5    |        |\n",
    "| x.4.6    |        |\n",
    "\n",
    "\n",
    "##### attach `xpath_and_css.csv` to your submission email"
   ]
  },
  {
   "cell_type": "markdown",
   "metadata": {},
   "source": [
    "# exercise 2: `xpath` and `css` selectors in a controlled environment <span style=\"color:red;font-weight:bold\">ANSWERS</span>\n",
    "\n",
    "| exercise | answer |\n",
    "|----------|--------|\n",
    "| x.1.1 | 2 |\n",
    "| x.1.2 | 3 |\n",
    "| x.1.3 | 5 |\n",
    "| x.1.4 | 2 |\n",
    "| x.1.5 | 1 |\n",
    "| x.2.1 | 4 |\n",
    "| x.2.2 | 1 |\n",
    "| x.2.3 | 1 |\n",
    "| x.2.4 | 2 |\n",
    "| x.2.5 | 2 |\n",
    "| x.3.1 | `/html/body/div/ul/li[@class=\"active\"]` |\n",
    "| x.3.2 | `//li[@class=\"active\"]` |\n",
    "| x.3.3 | `//td` |\n",
    "| x.3.4 | `//tr[@class=\"evenrow\"]/td` |\n",
    "| x.3.5 | `//table[@class=\"very_pretty\"]` |\n",
    "| x.3.6 | `//table[@id=\"important_table\"]` |\n",
    "| x.4.1 | `div > ul.very_pretty` |\n",
    "| x.4.2 | `div#listdiv li` |\n",
    "| x.4.3 | `td` |\n",
    "| x.4.4 | `tr.evenrow td` |\n",
    "| x.4.5 | `table.very_pretty` |\n",
    "| x.4.6 | `table#important_table` |"
   ]
  },
  {
   "cell_type": "markdown",
   "metadata": {},
   "source": [
    "<div style=\"border: 1px solid lightgrey;\">"
   ]
  },
  {
   "cell_type": "markdown",
   "metadata": {},
   "source": [
    "# exercise 3: `xpath` and `css` selectors in the wild\n",
    "\n",
    "let's construct several `xpath` expressions and `css` selectors to isolate elements on [the hacker news homepage](https://news.ycombinator.com/).\n",
    "\n",
    "this diagram\n",
    "\n",
    "<br><div align=\"center\"><img src=\"http://drive.google.com/uc?export=view&id=0ByQ4VmO-MwEEd3hZN0xNSHV2WE0\" width=\"700px\"></div><br>\n",
    "\n",
    "([link here](https://drive.google.com/file/d/0ByQ4VmO-MwEEd3hZN0xNSHV2WE0/view?usp=sharing)) highlights the four elements of each news article entry that we are looking to obtain.\n",
    "\n",
    "in this excercise our goal is to write `xpath` and `css` that would help us parse this page into tables of the items highlighted above. the table below contains a record for each of these boxed elements, including the number and color I used to highlight them above, a description of what this piece of information is telling us, and the text content that is in the example picture above. \n",
    "\n",
    "of these, every example should have 1, 2, and 4. almost all articles will have 3. this means that a successful `xpath` or `css` selector statement will have almost exactly 30 hits if you do a `Ctrl + f` search in inspect mode, or a `xpath` or `cssselect` in `python` (with possibly one or two less than that for a given element, but never more than 30).\n",
    "\n",
    "**note**: we are looking for the element \"closest\" to the text, i.e. the one which directly contains the text. for example, if I wanted to find \"has text in here\" in the following:\n",
    "\n",
    "```html\n",
    "<div>                        <!-- NOT this -->\n",
    "    <p>has text in here</p>  <!-- YES this -->\n",
    "</div>\n",
    "```\n",
    "\n",
    "I want a query which selects the `p` element, not the `div` element.\n",
    "\n",
    "\n",
    "fill in the `xpath` and `css` selector columns of the table below and save it as a `csv` named `hacker_news_selectors.csv`\n",
    "\n",
    "\n",
    "| number | color  | description      | example                   | `xpath` | `css` selector |\n",
    "|--------|--------|------------------|---------------------------|---------|----------------|\n",
    "| 1      | red    | article title    | \"If macOS High Sierra...\" | ?       | ?              |\n",
    "| 2      | blue   | article source   | \"apple.com\"               | ?       | ?              |\n",
    "| 3      | orange | number of points | \"167 points\"              | ?       | ?              |\n",
    "| 4      | green  | age of the post  | \"55 minutes ago\"          | ?       | ?              |\n",
    "\n",
    "\n",
    "\n",
    "##### attach `hacker_news_selectors.csv` to your homework submission email"
   ]
  },
  {
   "cell_type": "markdown",
   "metadata": {},
   "source": [
    "# exercise 3: `xpath` and `css` selectors in the wild <span style=\"color:red;font-weight:bold\">ANSWERS</span>\n",
    "\n",
    "anything which successfully highlights *only* those records will do. this means that you should see no more than 30 such elements if you do a `Ctrl + f` search in inspect mode, or a `xpath` or `cssselect` in `python`. the following *will* work, but are not strictly the only ones that work\n",
    "\n",
    "| number | color  | description      | example                   | `xpath` | `css` selector |\n",
    "|--------|--------|------------------|---------------------------|---------|----------------|\n",
    "| 1 | red | article title | \"If macOS High Sierra...\" | `//a[@class=\"storylink\"]`| `a.storylink` |\n",
    "| 2 | blue | article source | \"apple.com\" | `//span[@class=\"sitestr\"]` | `span.sitestr` |\n",
    "| 3 | orange | number of points | \"167 points\" | `//span[@class=\"score\"]` | `span.score` |\n",
    "| 4 | green | age of the post | \"55 minutes ago\" | `//span[@class=\"age\"]/a` | `span.age > a` |\n",
    "\n",
    "you can verify that any onee `xpath` or `css` selector statement works via\n",
    "\n",
    "```python\n",
    "import requests\n",
    "import lxml.html\n",
    "\n",
    "resp = requests.get('https://news.ycombinator.com/')\n",
    "root = lxml.html.fromstring(resp.text)\n",
    "\n",
    "# and then for any given xpath `xp` or css selector `cs`\n",
    "xpath_matches = root.xpath(xp)\n",
    "print(len(xpath_matches))\n",
    "print([_.text for _ in xpath_matches])\n",
    "\n",
    "css_matches = root.cssselect(cs)\n",
    "print(len(css_matches))\n",
    "print([_.text for _ in css_matches])\n",
    "```\n",
    "\n",
    "for example, 3 above:"
   ]
  },
  {
   "cell_type": "code",
   "execution_count": null,
   "metadata": {},
   "outputs": [],
   "source": [
    "xp = '//span[@class=\"score\"]'\n",
    "xpath_matches = root.xpath(xp)\n",
    "print(len(xpath_matches))\n",
    "print([_.text for _ in xpath_matches])\n",
    "print()\n",
    "\n",
    "cs = 'span.score'\n",
    "css_matches = root.cssselect(cs)\n",
    "print(len(css_matches))\n",
    "print([_.text for _ in css_matches])"
   ]
  },
  {
   "cell_type": "markdown",
   "metadata": {},
   "source": [
    "<div style=\"border: 1px solid lightgrey;\">"
   ]
  },
  {
   "cell_type": "markdown",
   "metadata": {},
   "source": [
    "# exercise 4: `POST` a `github gist`\n",
    "\n",
    "we are going to use the [`github` api](https://developer.github.com/v3/gists/#create-a-gist) to `POST` a gist to our `github` accounts. use this `api` and the `python` `requests` library to create a `gist` with the following properties\n",
    "\n",
    "1. it is public\n",
    "1. it contains a file called `I_GET_the_gist.txt`\n",
    "1. it has a description `look at this one, ines`\n",
    "\n",
    "beyond that, the `gist` contents can be anything you want (e.g. `hello world` or `python >>> R`).\n",
    "\n",
    "save the following as a `python` file named `I_POST_the_gist.py` and fill in the `FILL ME IN` blocks\n",
    "\n",
    "```python\n",
    "import getpass\n",
    "\n",
    "import requests\n",
    "\n",
    "\n",
    "def main():\n",
    "    username = input('github username: ')\n",
    "    pw = getpass.getpass('password: ')\n",
    "\n",
    "    # -------------- #\n",
    "    # FILL ME IN !!! #\n",
    "    # -------------- #\n",
    "\n",
    "    assert ((resp.status_code == 201)\n",
    "            or ((resp.status_code == 401)\n",
    "                and (resp.json()['message'] == 'Must specify two-factor authentication OTP code.')))\n",
    "\n",
    "    # don't need to return anything, after you've posted just exit\n",
    "\n",
    "\n",
    "if __name__ == '__main__':\n",
    "    main()\n",
    "```\n",
    "\n",
    "if this runs successfully, you should see *no* output in your terminal, and also a new `gist` on your github gist page\n",
    "\n",
    "\n",
    "##### attach your version of `I_POST_the_gist.py` to your submission email"
   ]
  },
  {
   "cell_type": "markdown",
   "metadata": {},
   "source": [
    "# exercise 4: `POST` a `github gist` <span style=\"color:red;font-weight:bold\">ANSWERS</span>\n",
    "\n",
    "```python\n",
    "import getpass\n",
    "\n",
    "import requests\n",
    "\n",
    "\n",
    "def main():\n",
    "    username = input('github username: ')\n",
    "    pw = getpass.getpass('password: ')\n",
    "\n",
    "    resp = requests.post(\n",
    "        url=\"https://api.github.com/gists\",\n",
    "        json={'description': 'look at this one, ines',\n",
    "              'public': True,\n",
    "              'files': {'I_GET_the_gist.txt': {'content': \"python >>> R\"}}},\n",
    "        auth=(username, pw))\n",
    "\n",
    "    assert ((resp.status_code == 201)\n",
    "            or (resp.status_code == 401\n",
    "                and resp.json()['message'] == 'Must specify two-factor authentication OTP code.'))\n",
    "\n",
    "    # don't need to return anything, after you've posted just exit\n",
    "\n",
    "\n",
    "if __name__ == '__main__':\n",
    "    main()\n",
    "```"
   ]
  },
  {
   "cell_type": "markdown",
   "metadata": {},
   "source": [
    "<div style=\"border: 1px solid lightgrey;\">"
   ]
  },
  {
   "cell_type": "markdown",
   "metadata": {},
   "source": [
    "# exercise 5: finding `json` elements in the developer tools \n",
    "\n",
    "the folks over at [fivethirtyeight](https://fivethirtyeight.com/) have been tracking the [Elo ratings](https://en.wikipedia.org/wiki/Elo_rating_system) of teams in several professional sports leagues for a while now, including [the NBA](https://projects.fivethirtyeight.com/complete-history-of-the-nba/). \n",
    "\n",
    "let's get that data! specifically, I want to get the data that defines the Elo rating history for any team in the NBA. the current default is the Toronto Raptors and that is what is presented to you when you load the page.\n",
    "\n",
    "suppose you did the due dilligence of\n",
    "\n",
    "1. looking for an API or a structured data (e.g. `csv`) download of this data to no avail\n",
    "    1. the extremely dilligent might find [the data up through 2015 available on `github` as a `csv` though...](https://github.com/fivethirtyeight/data/tree/master/nba-elo)\n",
    "1. you *also* tried parsing the `html` after a simple `request` in `python` but came up with nothing.\n",
    "\n",
    "prior to cracking open `selenium` you decide to give the \"Network\" tab on your web browser's developer tools a chance."
   ]
  },
  {
   "cell_type": "markdown",
   "metadata": {},
   "source": [
    "## 5.1: getting set up\n",
    "\n",
    "1. open your browser's developer tools / \"inspect\" toolbar\n",
    "1. open the \"Network\" tab\n",
    "1. reload the page and watch all the pretty little pieces of the webpage roll in\n",
    "\n",
    "take a few moments to dig through what you see and determine if anything looks promising"
   ]
  },
  {
   "cell_type": "markdown",
   "metadata": {},
   "source": [
    "## 5.2: fetching the results from a different team\n",
    "\n",
    "with developer tools window still open, click on the dropdown a few times and see what various urls your browser `request`s"
   ]
  },
  {
   "cell_type": "markdown",
   "metadata": {},
   "source": [
    "## 5.3: make a `request` of your own\n",
    "\n",
    "fill in the function body below and save that function in a file called `lebron_is_goat.py` (deal with it, bulls fans). don't worry about the `__main__` block or any of that -- just include the function.\n",
    "\n",
    "```python\n",
    "import requests\n",
    "\n",
    "\n",
    "def get_elo_hist(team_name):\n",
    "    response =  # FILL ME IN!!!!!!! #\n",
    "    return response.json()\n",
    "\n",
    "\n",
    "def test():\n",
    "    assert get_elo_hist('lakers')['value'][0]['y'] == 1527\n",
    "    assert get_elo_hist('bucks')['value'][0]['x'] == 1969\n",
    "```\n",
    "\n",
    "if your function is working as expected you should be able to run `test()` and see no `AssertionError`.\n",
    "\n",
    "\n",
    "##### attach `lebron_is_goat.py` to your homework submission email"
   ]
  },
  {
   "cell_type": "markdown",
   "metadata": {},
   "source": [
    "# exercise 5: finding `json` elements in the developer tools <span style=\"color:red;font-weight:bold\">ANSWERS</span>"
   ]
  },
  {
   "cell_type": "code",
   "execution_count": null,
   "metadata": {},
   "outputs": [],
   "source": [
    "import requests\n",
    "\n",
    "\n",
    "def get_elo_hist(team_name):\n",
    "    response = requests.get(\n",
    "        url='https://projects.fivethirtyeight.com/complete-history-of-the-nba/data/{}.json'.format(team_name),\n",
    "        params={'v': 23}\n",
    "    )\n",
    "    return response.json()\n",
    "\n",
    "\n",
    "def test():\n",
    "    assert get_elo_hist('lakers')['value'][0]['y'] == 1527\n",
    "    assert get_elo_hist('bucks')['value'][0]['x'] == 1969"
   ]
  },
  {
   "cell_type": "code",
   "execution_count": null,
   "metadata": {},
   "outputs": [],
   "source": [
    "test()"
   ]
  },
  {
   "cell_type": "markdown",
   "metadata": {},
   "source": [
    "<div style=\"border: 1px solid lightgrey;\">"
   ]
  },
  {
   "cell_type": "markdown",
   "metadata": {},
   "source": [
    "# exercise 6: creating a `branch`\n",
    "\n",
    "suppose you took the `ds_pipeline_template` notebook we worked on for a previous assignment and wanted to incorporate it into this repository. you re-worked that code into [an importable module `dspipeline.py`](https://gist.github.com/RZachLamberty/32f6d0ec0a69e951693eae50e686c2e3), and want to incorporate it into our shared project.\n",
    "\n",
    "1. make sure you're looking at your `gu511_git_hw` repository\n",
    "1. create a file `dspipeline.py` containg the contents of that `gist` link\n",
    "1. create a new `git` `branch` named `pipeline`\n",
    "1. check it out\n",
    "1. `add` and `commit` the new `dspipeline.py` file, using the `commit` message `dspipeline: initial commit`\n",
    "1. `push` this `branch` to `origin pipeline`\n",
    "1. verify it exists on `github`\n",
    "\n",
    "\n",
    "##### nothing to submit here, we will see it on `github`"
   ]
  },
  {
   "cell_type": "markdown",
   "metadata": {},
   "source": [
    "# exercise 6: creating a `branch` <span style=\"color:red;font-weight:bold\">ANSWERS</span>\n",
    "\n",
    "after editing `dspipeline.py` to contain the material on the `gist`:\n",
    "\n",
    "```sh\n",
    "git branch pipeline\n",
    "git checkout pipeline\n",
    "git add dspipeline.py\n",
    "git commit -m 'dspipeline: initial commit'\n",
    "git push origin pipeline\n",
    "```"
   ]
  },
  {
   "cell_type": "markdown",
   "metadata": {},
   "source": [
    "<div style=\"border: 1px solid lightgrey;\">"
   ]
  },
  {
   "cell_type": "markdown",
   "metadata": {},
   "source": [
    "# exercise 7: fill out a mid-year course survey\n",
    "\n",
    "I'd like your feedback on the course so far -- please fill out the form at https://forms.gle/7AP8Sq8irFDzAcAE7. this is 100% anonymous and not mandatory"
   ]
  },
  {
   "cell_type": "markdown",
   "metadata": {},
   "source": [
    "# exercise 7: fill out a mid-year course survey <span style=\"color:red;font-weight:bold\">ANSWERS</span>\n",
    "\n",
    "no answers here"
   ]
  },
  {
   "cell_type": "markdown",
   "metadata": {},
   "source": [
    "<div style=\"border: 1px solid lightgrey;\">"
   ]
  }
 ],
 "metadata": {
  "kernelspec": {
   "display_name": "Python 3",
   "language": "python",
   "name": "python3"
  },
  "language_info": {
   "codemirror_mode": {
    "name": "ipython",
    "version": 3
   },
   "file_extension": ".py",
   "mimetype": "text/x-python",
   "name": "python",
   "nbconvert_exporter": "python",
   "pygments_lexer": "ipython3",
   "version": "3.7.3"
  },
  "toc": {
   "base_numbering": 1,
   "nav_menu": {},
   "number_sections": true,
   "sideBar": true,
   "skip_h1_title": false,
   "title_cell": "Table of Contents",
   "title_sidebar": "Contents",
   "toc_cell": false,
   "toc_position": {},
   "toc_section_display": true,
   "toc_window_display": false
  }
 },
 "nbformat": 4,
 "nbformat_minor": 2
}
