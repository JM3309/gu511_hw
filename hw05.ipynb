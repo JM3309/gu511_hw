{
 "cells": [
  {
   "cell_type": "markdown",
   "metadata": {},
   "source": [
    "<a href=\"https://colab.research.google.com/github/rzl-ds/gu511_hw/blob/master/hw05.ipynb\" target=\"_parent\">\n",
    "    <img src=\"https://colab.research.google.com/assets/colab-badge.svg\"/>\n",
    "</a>"
   ]
  },
  {
   "cell_type": "markdown",
   "metadata": {},
   "source": [
    "# Exercises due by EOD 2020.10.09 ( !!! *NOT* 2020.10.02 !!! )"
   ]
  },
  {
   "cell_type": "markdown",
   "metadata": {},
   "source": [
    "## goal"
   ]
  },
  {
   "cell_type": "markdown",
   "metadata": {},
   "source": [
    "in this homework assignment we will develop our `python` skills, as well as work with `conda` and `jupyter notebook` servers"
   ]
  },
  {
   "cell_type": "markdown",
   "metadata": {},
   "source": [
    "## method of delivery"
   ]
  },
  {
   "cell_type": "markdown",
   "metadata": {},
   "source": [
    "*as mentioned in our first lecture, the method of delivery may change from assignment to assignment. we will include this section in every assignment to provide an overview of how we expect homework results to be submitted, and to provide background notes or explanations for \"new\" delivery concepts or methods.*"
   ]
  },
  {
   "cell_type": "markdown",
   "metadata": {},
   "source": [
    "this week you will be submitting the results of your homework via **email** and a public package on pypi.org.\n",
    "\n",
    "+ subject: \"hw05 answers\"\n",
    "+ to: rzl5@georgetown.edu, ip221@georgetown.edu\n",
    "\n",
    "summary:\n",
    "\n",
    "| exercise | deliverable | method of delivery | points |\n",
    "|----------|-------------|--------------------|--------|\n",
    "| 1 | none | none | 2 |\n",
    "| 2 | a version of `ds_pipeline_template.ipynb` | attached to your submission email | 35 |\n",
    "| 3 | none | we will see it at https://test.pypi.org/project/example-pkg-gu511-[YOUR_GU_ID]/ | 8 |\n",
    "| 4 | none | none | 5 |\n",
    "| 5 | none | none | 10 |\n",
    "\n",
    "total points: 60"
   ]
  },
  {
   "cell_type": "markdown",
   "metadata": {},
   "source": [
    "<div style=\"border: 1px solid lightgrey;\">"
   ]
  },
  {
   "cell_type": "markdown",
   "metadata": {},
   "source": [
    "# exercise 1: get an active `jupyter` session capable of running a data science `notebook`\n",
    "\n",
    "I have created a template notebook of a simple data science project (named `ds_pipeline_template.ipynb`) and hosted it in [the homework repository on `github`](https://github.com/rzl-ds/gu511_hw).\n",
    "\n",
    "in the next exercise (not this one) you will be asked to fill in that template file until it the notebook is fully functional, but in order to do that you need to be able to run and edit that file in a `jupyter notebook` server session. there are two ways to do that:\n",
    "\n",
    "## method 1: use google collab (recommended, the easy way)\n",
    "\n",
    "1. open [that url](https://colab.research.google.com/github/rzl-ds/gu511_hw/blob/master/ds_pipeline_template.ipynb)\n",
    "1. look at the top right corner of the window. if you are not already signed in to a google account, click the \"Sign In\" button and sign in with a google account (e.g. your `georgetown.edu` account)\n",
    "1. save your own copy so you can make edits\n",
    "    1. select File > Save a Copy in Drive\n",
    "        1. **do not** save to `github`, where it will be public\n",
    "        1. **do not** share your work on `google drive`\n",
    "    1. open your saved copy in a new tab (your browser should do this for you).\n",
    "1. execute the cells using `Shift + Enter` or the buttons in the web interface\n",
    "1. if you are prompted with warnings saying \"Warning: This notebook was not authored by Google.\", select the \"RUN ANYWAY\" option\n",
    "1. remember to *SAVE* your changes as you go (File > Save)\n",
    "\n",
    "\n",
    "## method 2: run `jupyter` locally (only do this if you know why you want to!)\n",
    "\n",
    "however you want, download that `.ipynb` file to your local laptop. you can do this via the command line e.g.:\n",
    "\n",
    "```sh\n",
    "wget https://raw.githubusercontent.com/rzl-ds/gu511_hw/master/ds_pipeline_template.ipynb\n",
    "```\n",
    "\n",
    "you could also navigate to [that `url`](https://raw.githubusercontent.com/rzl-ds/gu511_hw/master/ds_pipeline_template.ipynb) (note the `raw.` at the start of that url, not `www.`) in your browser and right-click and select \"Save\" or \"Save As...\" (whatever option your browser gives you).\n",
    "\n",
    "*note*: **do not** download the rendered version on `github` (the one that looks pretty)! that is an `html` file. you need the `raw` `json`-formatted `ipynb` file. make sure the word `raw` is in whatever `url` you are `wget`-ing / right-click downloading.\n",
    "\n",
    "\n",
    "after you have downloaded it, navigate to the containing directory and launch a `jupyter notebook` in that directory\n",
    "\n",
    "*note*: you will need the following `python` packages to run this notebook:\n",
    "\n",
    "+ `jupyter==1.0`\n",
    "+ `matplotlib==3.2`\n",
    "+ `numpy==1.18`\n",
    "+ `plotly==4.4`\n",
    "+ `seaborn==0.10`\n",
    "+ `scikit-learn==0.22`\n",
    "\n",
    "(any patch version of the above is fine)"
   ]
  },
  {
   "cell_type": "markdown",
   "metadata": {},
   "source": [
    "<div style=\"border: 1px solid lightgrey;\">"
   ]
  },
  {
   "cell_type": "markdown",
   "metadata": {},
   "source": [
    "# exercise 2: fill in the contents of the `ds_pipeline_template.ipynb` notebook\n",
    "\n",
    "throughout that template notebook I have removed snippets of code and replaced them with comment blocks saying:\n",
    "\n",
    "```py\n",
    "# --------------- #\n",
    "# FILL ME IN !!!! #\n",
    "# --------------- #\n",
    "```\n",
    "\n",
    "you should... you know... fill those in.\n",
    "\n",
    "there is a section at the end labelled **advanced: cross-validation of multiple pipelines for model selection** -- you do not need to fill in any of this, nor run it, if you are not interested. if you *do* want to run it, know that it will take a long time to run on the colab infrastructure\n",
    "\n",
    "once you have filled them all in, please **save** that file as `[YOUR_GU_ID].ds_pipeline_template.ipynb`\n",
    "\n",
    "1. if you used `google colab`, select \"File > Download .ipynb\" and enter this name\n",
    "1. if you used your own `jupyter notebook` on your laptop, just rename the file\n",
    "\n",
    "##### attach this properly named notebook file to your homework submission email"
   ]
  },
  {
   "cell_type": "markdown",
   "metadata": {},
   "source": [
    "<div style=\"border: 1px solid lightgrey;\">"
   ]
  },
  {
   "cell_type": "markdown",
   "metadata": {},
   "source": [
    "# exercise 3: build a `python` package and publish it to `pypi`\n",
    "\n",
    "follow the tutorial [here](https://packaging.python.org/tutorials/packaging-projects/) to create a package and publish it to [`pypi`](https://pypi.org/).\n",
    "\n",
    "please make **one exception** to the rules in that tutorial: when you are naming your python package, you must name it\n",
    "\n",
    "```\n",
    "example-pkg-gu511-[YOUR GU ID]\n",
    "```\n",
    "\n",
    "for example, mine would be\n",
    "\n",
    "```\n",
    "example-pkg-gu511-rzl5\n",
    "```\n",
    "\n",
    "once you have uploaded it to pypi, your package should have a public url like `https://test.pypi.org/project/example-pkg-gu511-[YOUR GU ID]/`. make sure you can access that url (with your package name of course) *in an incognito window*. we will verify this assignment by going to that page to see your example package.\n",
    "\n",
    "##### nothing to submit here, we wil check `https://test.pypi.org/project/example-pkg-gu511-[YOUR GU ID]/`"
   ]
  },
  {
   "cell_type": "markdown",
   "metadata": {},
   "source": [
    "<div style=\"border: 1px solid lightgrey;\">"
   ]
  },
  {
   "cell_type": "markdown",
   "metadata": {},
   "source": [
    "# exercise 4: installing `miniconda` on your `ec2` server\n",
    "\n",
    "this will be a straightforward list of steps to execute from the terminal of your `ec2` server in order to install the `anaconda python` distribution.\n",
    "\n",
    "1. do these on your laptop:\n",
    "    1. in your browser, go to [the `miniconda` download page](https://conda.io/miniconda.html)\n",
    "    2. find the `python 3.6` installer for `64-bit linux`\n",
    "    3. *copy the download link address*, don't just click\n",
    "        1. at the time of writing, this link was: `https://repo.continuum.io/miniconda/Miniconda3-latest-Linux-x86_64.sh`\n",
    "2. do these on your `ec2` server\n",
    "    1. download this file: `wget [THE URL FROM ABOVE]`. this will create a file (say) `Miniconda3-latest-Linux-x86_64.sh` in your current working directory.\n",
    "    2. execute that bash script: `bash Miniconda3-latest-Linux-x86_64.sh`\n",
    "        1. read the license. scroll through.... yes... yes... okay... fine... sure... yes... okay... type `yes` to accept\n",
    "        2. the default installation directory is fine but change it if you'd like\n",
    "        3. I will recommend you *do* change your `PATH` -- the default is `no`, so you have to actively type `yes` at this prompt.\n",
    "    3. if you experience an error or abort, you may have created the install directory. if you see an error: `ERROR: File or directory already exists: /home/ubuntu/miniconda3`, you can and should `rm` that directory\n",
    "1. back on your laptop:\n",
    "    1. close your `ec2` connection and then log back in\n",
    "1. back on your `ec2` instance:\n",
    "    1. run `conda update -n base -c defaults conda`\n",
    "        1. this will update to the latest version of `conda`. why is this not the one installed by `Miniconda3-latest`? good question!\n",
    "\n",
    "##### there is nothing to submit here"
   ]
  },
  {
   "cell_type": "markdown",
   "metadata": {},
   "source": [
    "<div style=\"border: 1px solid lightgrey;\">"
   ]
  },
  {
   "cell_type": "markdown",
   "metadata": {},
   "source": [
    "# exercise 5: launching and connecting to a `jupyter` notebook server on `ec2`\n",
    "\n",
    "let's use a `conda` environment and the `jupyter` package to create a jupyter notebook server. you're going to connect to that notebook server with your web browser to open and edit notebook files."
   ]
  },
  {
   "cell_type": "markdown",
   "metadata": {},
   "source": [
    "## 5.1: creating an environment and installing `jupyter`\n",
    "\n",
    "using `conda`, let's create an environment that can run a `jupyter notebook` server.\n",
    "\n",
    "from the `bash` command line on your `ec2` instance, run\n",
    "\n",
    "```sh\n",
    "conda create --name jupyter python=3.8 jupyter\n",
    "\n",
    "# after that finishes...\n",
    "conda activate jupyter\n",
    "```\n",
    "\n",
    "check that everything has worked correctly by running\n",
    "\n",
    "```sh\n",
    "jupyter --version\n",
    "```\n",
    "\n",
    "you should get an output like\n",
    "\n",
    "```sh\n",
    "jupyter core     : 4.6.3\n",
    "jupyter-notebook : 6.1.1\n",
    "qtconsole        : 4.7.7\n",
    "ipython          : 7.18.1\n",
    "ipykernel        : 5.3.4\n",
    "jupyter client   : 6.1.6\n",
    "jupyter lab      : not installed\n",
    "nbconvert        : 5.6.1\n",
    "ipywidgets       : 7.5.1\n",
    "nbformat         : 5.0.7\n",
    "traitlets        : 4.3.3\n",
    "```\n",
    "\n",
    "possibly with some of the version numbers different slightly"
   ]
  },
  {
   "cell_type": "markdown",
   "metadata": {},
   "source": [
    "## 5.2: launching the `jupyter notebook` server\n",
    "\n",
    "on your `ec2` instance and with you `jupyter` `conda` environment activated, run the following command to launch your notebook server\n",
    "\n",
    "```sh\n",
    "jupyter notebook --no-browser --ip=0.0.0.0\n",
    "```\n",
    "\n",
    "you should see output roughly like\n",
    "\n",
    "```\n",
    "[I 00:09:53.038 NotebookApp] Writing notebook server cookie secret to /home/ubuntu/.local/share/jupyter/runtime/notebook_cookie_secret\n",
    "[I 00:09:53.261 NotebookApp] Serving notebooks from local directory: /home/ubuntu\n",
    "[I 00:09:53.261 NotebookApp] Jupyter Notebook 6.1.1 is running at:\n",
    "[I 00:09:53.261 NotebookApp] http://ip-172-31-76-204:8888/?token=5d49231ef55a1201742f4891aab350efb6ce03dba63d6125\n",
    "[I 00:09:53.261 NotebookApp]  or http://127.0.0.1:8888/?token=5d49231ef55a1201742f4891aab350efb6ce03dba63d6125\n",
    "[I 00:09:53.261 NotebookApp] Use Control-C to stop this server and shut down all kernels (twice to skip confirmation).\n",
    "[C 00:09:53.265 NotebookApp] \n",
    "    \n",
    "    To access the notebook, open this file in a browser:\n",
    "        file:///home/ubuntu/.local/share/jupyter/runtime/nbserver-1431-open.html\n",
    "    Or copy and paste one of these URLs:\n",
    "        http://ip-172-31-76-204:8888/?token=5d49231ef55a1201742f4891aab350efb6ce03dba63d6125\n",
    "     or http://127.0.0.1:8888/?token=5d49231ef55a1201742f4891aab350efb6ce03dba63d6125\n",
    "```\n",
    "\n",
    "copy the token value at the end of that url -- e.g. in the above, the token value to copy is `5d49231ef55a1201742f4891aab350efb6ce03dba63d6125`"
   ]
  },
  {
   "cell_type": "markdown",
   "metadata": {},
   "source": [
    "## 5.3: connecting *from* your laptop *to* your `jupyter notebook` server running on your `ec2`\n",
    "\n",
    "we have yet another **client/server** relationship here: we just started a **server** on our `ec2` instance, and we want to use our laptop -- and specifically google chrome -- as the client.\n",
    "\n",
    "normally, when you launch `jupyter notebook` from your own laptop, you create a server running on your local machine, and you can connect to it at http://localhost:8888/. this url as written is interpreted as \"send messages to port 8888 on *this* computer\".\n",
    "\n",
    "we just started our server on our `ec2` instance, so we need to figure out how to send messages to port 8888 on *that* machine. we have two options here:\n",
    "\n",
    "1. open port 8888 on your `ec2` instance to the world and connect directly at `http://[your public dns address]:8888`\n",
    "    + we're not going to do this. it's not wrong, it's just a little more aws configuration than we have to do\n",
    "1. use \"port forwarding\" to send any messages your *local* machine gets on port 8888 to the remote machine instead\n",
    "\n",
    "we will set up port forwarding with `ssh`"
   ]
  },
  {
   "cell_type": "markdown",
   "metadata": {},
   "source": [
    "### 5.3.A: if you have the `ssh` command (linux, mac, some windows)...\n",
    "\n",
    "**open another terminal window** (i.e. leave the one runing `jupyter notebook` alone for now).\n",
    "\n",
    "in that second terminal, run the following command:\n",
    "\n",
    "```sh\n",
    "# if you have a ~/.ssh/config entry for your ec2:\n",
    "ssh -N -f -L localhost:8888:localhost:8888 [YOUR SSH ALIAS HERE]\n",
    "\n",
    "# if you connect via ssh -i [YOUR PUBKEY PATH] ubuntu@[YOUR EC2 ADDRESS]\n",
    "ssh -N -f -L localhost:8888:localhost:8888 -i [YOUR PUBKEY PATH] ubuntu@[YOUR EC2 ADDRESS]\n",
    "```\n",
    "\n",
    "basically, we are running the exact same command we always do to connect to our `ec2` instance, just adding flags\n",
    "\n",
    "```\n",
    "-N -f -L localhost:8888:localhost:8888\n",
    "```\n",
    "\n",
    "if this works, you will get no message at all. if so, skip down to the section on \"finally connecting\".\n",
    "\n",
    "if, however, you get an error like\n",
    "\n",
    "```sh\n",
    "bind [127.0.0.1]:8888: Address already in use\n",
    "channel_setup_fwd_listener_tcpip: cannot listen to port: 8888\n",
    "Could not request local forwarding.\n",
    "```\n",
    "\n",
    "this is because you have something (probably `jupyter notebook`) running on your laptop using that port. if you do, increment the first port number until you do not have this error, e.g. try\n",
    "\n",
    "```\n",
    "-N -f -L localhost:8889:localhost:8888\n",
    "-N -f -L localhost:8890:localhost:8888\n",
    "-N -f -L localhost:8891:localhost:8888\n",
    "-N -f -L localhost:8892:localhost:8888\n",
    "...\n",
    "```\n",
    "\n",
    "until one works. then try opening `http://localhost:[THE PORT NUMBER THAT FINALLY WORKED]/`"
   ]
  },
  {
   "cell_type": "markdown",
   "metadata": {},
   "source": [
    "### 5.3.B: if you are using `putty`...\n",
    "\n",
    "below we have some steps tailored for our situation, but check out the \"Local Port Forwarding\" description in [this tutorial](https://blog.devolutions.net/2017/4/how-to-configure-an-ssh-tunnel-on-putty) for some background and details.\n",
    "\n",
    "1. open `putty`\n",
    "1. load the saved connection profile you use to connect to your `ec2` instance, but don't launch it\n",
    "1. edit the name of this profile (the string in the \"Saved Sessions\" text box in the middle of the putty window, not the Host Name) by adding the string \" port forwarding\" to the end of it, and then save\n",
    "    1. e.g. if your saved session is called `gu511`, highlight that session, click Load, edit the Saved Sessions field to say `gu511 port forwarding`, and click `Save`\n",
    "1. in the left panel, open `Connection > SSH > Tunnels`\n",
    "1. add a new forwarded port with the following values\n",
    "    1. source port: 8888\n",
    "    1. destination: `[YOUR EC2 URL or DNS]:8888`\n",
    "    1. click Add\n",
    "1. go back to the main menu screen (`Session` in the left hand menu)\n",
    "1. click Save\n",
    "1. click Open\n",
    "\n",
    "test that this worked in the next section"
   ]
  },
  {
   "cell_type": "markdown",
   "metadata": {},
   "source": [
    "## 5.4: finally connecting\n",
    "\n",
    "verify that your `ssh` tunnel connection worked by\n",
    "\n",
    "1. pulling up the terminal you used to launch `jupyter notebook` up above\n",
    "1. copying the token value\n",
    "1. opening google chrome and navigating to http://localhost:8888/. you should get to a login screen asking your for a token; copy and paste the token from your `ec2` terminal you left running up above.\n",
    "1. while you are doing this in chrome, you should be seeing log messages in the `ec2` terminal\n",
    "\n",
    "feel free to use your server as much or as little as you want.\n",
    "\n",
    "when you are done, close the chrome window, and go back to your `ec2` terminal session and press `ctrl + c` twice to kill the running `jupyter notebook` server.\n",
    "\n",
    "\n",
    "##### there is nothing to turn in here"
   ]
  },
  {
   "cell_type": "markdown",
   "metadata": {},
   "source": [
    "<div style=\"border: 1px solid lightgrey;\">"
   ]
  }
 ],
 "metadata": {
  "kernelspec": {
   "display_name": "Python 3",
   "language": "python",
   "name": "python3"
  },
  "language_info": {
   "codemirror_mode": {
    "name": "ipython",
    "version": 3
   },
   "file_extension": ".py",
   "mimetype": "text/x-python",
   "name": "python",
   "nbconvert_exporter": "python",
   "pygments_lexer": "ipython3",
   "version": "3.7.3"
  },
  "toc": {
   "base_numbering": 1,
   "nav_menu": {},
   "number_sections": true,
   "sideBar": true,
   "skip_h1_title": false,
   "title_cell": "Table of Contents",
   "title_sidebar": "Contents",
   "toc_cell": false,
   "toc_position": {},
   "toc_section_display": true,
   "toc_window_display": false
  }
 },
 "nbformat": 4,
 "nbformat_minor": 2
}
