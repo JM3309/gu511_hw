{
 "cells": [
  {
   "cell_type": "markdown",
   "metadata": {},
   "source": [
    "<a href=\"https://colab.research.google.com/github/rzl-ds/gu511_hw/blob/master/hw04.ipynb\" target=\"_parent\">\n",
    "    <img src=\"https://colab.research.google.com/assets/colab-badge.svg\"/>\n",
    "</a>"
   ]
  },
  {
   "cell_type": "markdown",
   "metadata": {},
   "source": [
    "# Exercises due by EOD 2020.09.24"
   ]
  },
  {
   "cell_type": "markdown",
   "metadata": {},
   "source": [
    "## goal"
   ]
  },
  {
   "cell_type": "markdown",
   "metadata": {},
   "source": [
    "in this homework assignment we will continue exploring `ssh` and `linux` skills, and start to `git` more familiar with `git`"
   ]
  },
  {
   "cell_type": "markdown",
   "metadata": {},
   "source": [
    "## method of delivery"
   ]
  },
  {
   "cell_type": "markdown",
   "metadata": {},
   "source": [
    "*as mentioned in our first lecture, the method of delivery may change from assignment to assignment. we will include this section in every assignment to provide an overview of how we expect homework results to be submitted, and to provide background notes or explanations for \"new\" delivery concepts or methods.*"
   ]
  },
  {
   "cell_type": "markdown",
   "metadata": {},
   "source": [
    "this week you will be submitting the results of your homework via **EMAIL** and **GITHUB**\n",
    "\n",
    "+ subject: \"hw05 answers\"\n",
    "+ to: rzl5@georgetown.edu, ip221@georgetown.edu\n",
    "\n",
    "summary:\n",
    "\n",
    "| exercise | deliverable | method of delivery | points |\n",
    "|----------|-------------|--------------------|--------|\n",
    "| 1 | public ip address of `ec2` instance we can `ssh` into | include in body of submission email | 10 |\n",
    "| 2 | none | none | 5 |\n",
    "| 3 | a `push` of a first commit of a local repo to a shared `github` repo | none (we will get an email) | 5 |\n",
    "| 4 | none | none | 3 |\n",
    "| 5 | a commit containing `helloworld.py` | `push` to your `github` repo | 5 |\n",
    "| 6 | a commit containing changes to `README.md` | `push` to your `github` repo | 5 |\n",
    "| 7 | none | none | 2 |\n",
    "\n",
    "\n",
    "total points: 35"
   ]
  },
  {
   "cell_type": "markdown",
   "metadata": {},
   "source": [
    "<div style=\"border: 1px solid lightgrey;\">"
   ]
  },
  {
   "cell_type": "markdown",
   "metadata": {},
   "source": [
    "# exercise 1: set up *MY* login to *your* `ec2` instance\n",
    "\n",
    "we now have three computers in place -- your laptop, your `ec2` instance, and my `ec2` instance. we've set up connections\n",
    "\n",
    "+ your laptop `-->` your `ec2`\n",
    "+ your laptop `-->` my `ec2`\n",
    "\n",
    "I gave you the ability to log in to my `aws` instance, and now it's time to repay the favor. we will set up one final connection\n",
    "\n",
    "+ my `ec2` `-->` your `ec2`\n",
    "\n",
    "being knowledgable in the ways of `ssh`, you know the information you require, so you ask me:\n",
    "\n",
    "1. what is the IP address from which you will be connecting?\n",
    "1. what is your private key?\n",
    "\n",
    "and I respond:\n",
    "\n",
    "1. `3.223.216.195`\n",
    "1. [pretty public all right](https://gist.githubusercontent.com/RZachLamberty/2c29bb3d6ce77862d113e967b43fe2d7/raw/bed41d1efed6c6fe8feb4be570054e3ac56b360a/zachs_ec2.gu511_ssh_hw.2020.pub)\n",
    "\n",
    "so what now?"
   ]
  },
  {
   "cell_type": "markdown",
   "metadata": {},
   "source": [
    "## 1.1: configure the `aws` security group to allow traffic from my ip address\n",
    "\n",
    "first, you have to make sure I am *allowed* to send `ssh` messages. you do that in the `aws` `ec2` console (remember that?!).\n",
    "\n",
    "[log in to `aws`](https://console.aws.amazon.com/) and select the `ec2` service and then the \"instances\" sub-menu. select your `ec2` instance so that the description panel fills in on the bottom. then, click the link to visit your `ec2` instance's security group\n",
    "\n",
    "<br><div align=\"center\"><img src=\"http://drive.google.com/uc?export=view&id=1jNTmBuwqRNaVNBQQYaotT-0b90GQSZS5\"></div>\n",
    "\n",
    "in the modern view, this will look like\n",
    "\n",
    "<br><div align=\"center\"><img src=\"http://drive.google.com/uc?export=view&id=1EiAyay9ou9sl2lMdg1wTcENyPIuThRG4\"></div>\n",
    "\n",
    "once there, click on the \"inbound\" tab in the lower panel, and verify that one of the two following statements is true:\n",
    "\n",
    "1. you have a rule allowing `tcp` traffic on port 22 (e.g. `ssh`) from *all* ip addresses (`cidr = 0.0.0.0/0`), or\n",
    "1. you have a rule allowing `tcp` traffic on port 22 (e.g. `ssh`) from *my* ip address (`cidr = 3.223.216.195/32`)"
   ]
  },
  {
   "cell_type": "markdown",
   "metadata": {},
   "source": [
    "## 1.2: set up my user on your `ec2` instance\n",
    "\n",
    "the next step is for you to create a new user on your `ec2` instance. this is an administrator level task, so we must become a super user -- using `sudo`.\n",
    "\n",
    "the command we will execute is the `useradd` command which -- surprise, surprise -- adds users.\n",
    "\n",
    "the `-m` flag creates a home directory for me.\n",
    "\n",
    "run the following command to create a new user named `rzl5` on your machine:\n",
    "\n",
    "```sh\n",
    "sudo useradd  -s /bin/bash -m rzl5\n",
    "```"
   ]
  },
  {
   "cell_type": "markdown",
   "metadata": {},
   "source": [
    "## 1.3: add the public key for my user\n",
    "\n",
    "for me to log in as new user `rzl5`, that user must have my public key in a `.ssh` folder in that user's home directory. you can make that happen!\n",
    "\n",
    "to start, give my user a `/home/rzl5/.ssh` folder:\n",
    "\n",
    "```sh\n",
    "# create a .ssh folder for my user, and change the owner\n",
    "sudo mkdir -p /home/rzl5/.ssh\n",
    "sudo chown rzl5:rzl5 /home/rzl5/.ssh\n",
    "```\n",
    "\n",
    "now, we need to add the public key to a file called `authorized_keys` in that `~/.ssh` directory execute the commands below, but replace the `REPLACE_THIS_PUB_KEY_STRING` with the value on the [`github` gist](https://gist.githubusercontent.com/RZachLamberty/2c29bb3d6ce77862d113e967b43fe2d7/raw/bed41d1efed6c6fe8feb4be570054e3ac56b360a/zachs_ec2.gu511_ssh_hw.2020.pub). **leave the quotations around the very long public key!\":\n",
    "\n",
    "```sh\n",
    "# add public key to authorized_keys and then fix permissions\n",
    "sudo sh -c 'echo \"REPLACE_THIS_PUB_KEY_STRING\" >> /home/rzl5/.ssh/authorized_keys'\n",
    "\n",
    "# change the owner of my .ssh directory to be me,\n",
    "# then set the permission MODe to be restricted to\n",
    "# me alone\n",
    "sudo chown -R rzl5:rzl5 /home/rzl5/.ssh/\n",
    "sudo chmod 700 /home/rzl5/.ssh\n",
    "sudo chmod 600 /home/rzl5/.ssh/authorized_keys\n",
    "```\n",
    "\n",
    "you can verify you've done this all correctly if you run the following command and see a similar output (not necessarily the file size, but definitely the permission mode strings):\n",
    "\n",
    "```sh\n",
    "ubuntu@ip-XXX-XXX-XXX-XXX:~$ sudo ls -alh /home/rzl5/.ssh\n",
    "```\n",
    "\n",
    "```\n",
    "total 12K\n",
    "drwx------ 2 rzl5 rzl5 4.0K Sep 16 18:46 .\n",
    "drwxr-xr-x 4 rzl5 rzl5 4.0K Sep 21 00:05 ..\n",
    "-rw------- 1 rzl5 rzl5  740 Sep 16 18:46 authorized_keys\n",
    "```"
   ]
  },
  {
   "cell_type": "markdown",
   "metadata": {},
   "source": [
    "## 1.4: send me your `ec2` instance's public ip address or DNS\n",
    "\n",
    "finally, send me the *public ip address* or *public DNS* of your instance, and make sure it stays on long enough for me to make an ssh connection.\n",
    "\n",
    "\n",
    "##### email us your public ip address"
   ]
  },
  {
   "cell_type": "markdown",
   "metadata": {},
   "source": [
    "<div style=\"border: 1px solid lightgrey;\">"
   ]
  },
  {
   "cell_type": "markdown",
   "metadata": {},
   "source": [
    "# exercise 2: create a brand new *local* repository\n",
    "\n",
    "we are going to create a directory with a single file (a `README.md` file) and we will start tracking it with version control.\n",
    "\n",
    "1. choose to use your home laptop or `ec2` instance. you can use either, but you will have to edit files and use `git` in that place you choose for the rest of the class\n",
    "    1. if you're not sure, I recommend you use your laptop\n",
    "1. in some place you will not forget, create a directory named `gu511_git_hw`\n",
    "1. move into that directory (`cd`)\n",
    "1. run the following command: `echo \"# 511 github repo\" > README.md`\n",
    "\n",
    "now the goal is to create a local `git` repository that can track changes in this new `gu511_git_hw` directory. do the following:\n",
    "\n",
    "1. `init`ialize a `git` repository in this directory\n",
    "1. `add` the `README.md` to the `git` repository for staging\n",
    "1. `commit` this addition: run `git commit -m 'gu511 git hw: initial commit'`\n",
    "\n",
    "##### nothing to submit here; we will see it when you `push` to `github` in a later exercise"
   ]
  },
  {
   "cell_type": "markdown",
   "metadata": {},
   "source": [
    "<div style=\"border: 1px solid lightgrey;\">"
   ]
  },
  {
   "cell_type": "markdown",
   "metadata": {},
   "source": [
    "# exercise 3: connect your *local* and *remote* `gu511_git_hw` repos\n",
    "\n",
    "in exercise 1 we created a `local` repository called `gu511_git_hw`, and on a previous homework assignment we created an empty repository on `github` with that same name `gu511_git_hw` -- what a coincidence!\n",
    "\n",
    "right now, on your `github` repository home page there is a set of 3 commands under the title **\"...or push an existing repository from the command line\"**.\n",
    "\n",
    "select the `ssh` option at the top of that page and copy those commands; they should be something like\n",
    "\n",
    "```sh\n",
    "git remote add origin git@github.com:YOUR_GITHUB_USER_NAME>/gu511_git_hw.git\n",
    "git branch -M master\n",
    "git push -u origin master\n",
    "```\n",
    "\n",
    "run those commands to add your `github` repo as the *remote* for your *local* repo, and then `push` your single `commit` message to `github`\n",
    "\n",
    "*note: if you get an authentication error message when you try to run the `git push -u origin mater` command, you have not yet set up `ssh` authentication with `github`. go read that section in the `git` lecture and set up `ssh` authentication and try again\n",
    "\n",
    "##### we will get an email that this has been done -- we are collaborators, after all"
   ]
  },
  {
   "cell_type": "markdown",
   "metadata": {},
   "source": [
    "<div style=\"border: 1px solid lightgrey;\">"
   ]
  },
  {
   "cell_type": "markdown",
   "metadata": {},
   "source": [
    "# exercise 4: add several `git` aliases\n",
    "\n",
    "like many `linux` tools, `git` allows you to configure *aliases* (shortcut phrases for invoking long strings of commands). there are a number of these aliases that I find routinely useful, and we are going to add them to your `git` config files.\n",
    "\n",
    "I'd recommend doing the following on all the computers on which you intend to use `git` (`ec2`, personal laptop, etc). for now, do it at least on the computer where you created your `gu511_git_hw` repository."
   ]
  },
  {
   "cell_type": "markdown",
   "metadata": {},
   "source": [
    "## 4.1: locating your `git` config file\n",
    "\n",
    "remember our frequent mantra about `linux`-world command configuration: you can configure a command\n",
    "\n",
    "1. *one-off*: on the command line, when you invoke that command\n",
    "1. *local*: with files saved in the working directoy in which you invoke that command\n",
    "1. *global*: with files save in your home directory\n",
    "1. *system*: with files saved in `/etc`\n",
    "\n",
    "we are going to update that 3rd item -- the global `git` config, a file that is saved in your home directory (it is \"global\" in that you can use it anywhere you are, it applies globally for you)\n",
    "\n",
    "in `mac`, `linux`, and `windows` with `git bash`, `git` will look for a file at the path\n",
    "\n",
    "```sh\n",
    "~/.gitconfig\n",
    "```\n",
    "\n",
    "for `mac` and `linux`, this is all you need to know. for `windows`, `~` is *usually* `C:\\Users\\YOUR_USER_NAME`. that being said, you should verfiy by running (in `git bash`, not in `cmd` or `ps`)\n",
    "\n",
    "```sh\n",
    "cd ~ && pwd\n",
    "```\n",
    "\n",
    "to see what `git bash` sees as your `~` directory on your windows machine."
   ]
  },
  {
   "cell_type": "markdown",
   "metadata": {},
   "source": [
    "## 4.2: adding a few aliases from the command line\n",
    "\n",
    "the `git config` command allows you to set configuration values via the command line -- see [the documentation here](https://git-scm.com/book/en/v2/Git-Basics-Git-Aliases). let's set the first few aliases -- two-letter shorthands for the commands we learned yesterday -- using this command. run the following from your terminal:\n",
    "\n",
    "```sh\n",
    "git config --global alias.co checkout\n",
    "git config --global alias.br branch\n",
    "git config --global alias.ci commit\n",
    "```"
   ]
  },
  {
   "cell_type": "markdown",
   "metadata": {},
   "source": [
    "## 4.3: editing that file\n",
    "\n",
    "open `~/.gitconfig` in the text editor of your preference and verify that those aliases were added somewhere within it:\n",
    "\n",
    "```config\n",
    "[alias]\n",
    "    ci = commit\n",
    "    br = branch\n",
    "    co = checkout\n",
    "```\n",
    "\n",
    "the format of this file is a common format (often called [`INI` formatting](https://en.wikipedia.org/wiki/INI_file)) in which configuration variables are grouped by concept (e.g. `alias` variables) into *sections*. the name of the section is written inside braces (`[section name]`). the configuration variables are set via `key = value` statements, often indented.\n",
    "\n",
    "update the block under the `[alias]` heading to look like:\n",
    "\n",
    "```config\n",
    "[alias]\n",
    "    ci = commit\n",
    "    br = branch\n",
    "    co = checkout\n",
    "    st = status -sb\n",
    "    gr = log --graph --abbrev-commit --decorate --date=relative --format=format:'%C(bold blue)%h%C(reset) - %C(bold green)(%ar)%C(reset) %C(bold white)%s%C(reset) - %C(red)%an%C(reset)%C(bold yellow)%d%C(reset)' --all\n",
    "    unstage = reset HEAD --\n",
    "```\n",
    "\n",
    "try `git st` and `git gr` to see what they do!\n",
    "\n",
    "a lot of folks share their `.gitconfig` files online so look around for configurations you like. [here's mine](https://github.com/RZachLamberty/linux_configs/blob/master/files/.gitconfig)"
   ]
  },
  {
   "cell_type": "markdown",
   "metadata": {},
   "source": [
    "<div style=\"border: 1px solid lightgrey;\">"
   ]
  },
  {
   "cell_type": "markdown",
   "metadata": {},
   "source": [
    "# exercise 5: add a new `python` file to your local `gu511_git_hw` repo and `push` to your remote\n",
    "\n",
    "<span style=\"color:red;font-weight:bold\">make sure you have finished exercise 3 before starting this one. to verify that you have, run the following commands and look for the corresponding outputs</span>\n",
    "\n",
    "| command to run | expected output |\n",
    "|-|-|\n",
    "| `git log --oneline` | `dcc3742 (HEAD -> master) gu511 git hw: initial commit` (your sha will differ) |\n",
    "| `git remote` | `origin` |\n",
    "\n",
    "\n",
    "write the following code to a file named `helloworld.py` in your local `gu511_git_hw` directory (that is, save it next to `README.md`):\n",
    "\n",
    "```py\n",
    "import datetime\n",
    "\n",
    "def hello_world():\n",
    "    print('hello world!')\n",
    "    now = datetime.datetime.now()\n",
    "    print(f'it is {now}')\n",
    "\n",
    "if __name__ == \"__main__\":\n",
    "    hello_world()\n",
    "```\n",
    "\n",
    "after editing,\n",
    "\n",
    "1. `add` this new file to your repository\n",
    "1. `commit` this new file with a message `helloworld: initial commit`\n",
    "1. `push` your chagnes to `github`"
   ]
  },
  {
   "cell_type": "markdown",
   "metadata": {},
   "source": [
    "<div style=\"border: 1px solid lightgrey;\">"
   ]
  },
  {
   "cell_type": "markdown",
   "metadata": {},
   "source": [
    "# exercise 6: edit the `README.md` and `push`\n",
    "\n",
    "<span style=\"color:red;font-weight:bold\">make sure you have finished exercise 5 before starting this one</span>\n",
    "\n",
    "edit the existing `README.md` to read:\n",
    "\n",
    "```\n",
    "# 511 github repo\n",
    "\n",
    "the primary function of this repo is to develop `git` skills over the course of the year.\n",
    "\n",
    "## repository contents\n",
    "\n",
    "+ `helloworld.py`\n",
    "    + run with `python helloworld.py`\n",
    "    + this will greet you and then tell you the current time\n",
    "```\n",
    "\n",
    "when you commit, use the message `README: adding a contents section`. then `push` these results to `github`"
   ]
  },
  {
   "cell_type": "markdown",
   "metadata": {},
   "source": [
    "<div style=\"border: 1px solid lightgrey;\">"
   ]
  },
  {
   "cell_type": "markdown",
   "metadata": {},
   "source": [
    "# exercise 7: consider joining a local data science meetup\n",
    "\n",
    "there are a lot of good DC-area meetup options for people interested in data science, and I strongly recommend you look into the different groups in the area to identify topics you are interested in. in addition to being a long-term way of keeping up to date on what other folks in the community are doing, it's an open community for you to find smart people who are doing the sorts of things you are or would like to do in the future.\n",
    "\n",
    "one silver lining to the pandemic cloud: remote sessions of meetups have made it much easier to attend virtually.\n",
    "\n",
    "in particular, I recommend the following:\n",
    "\n",
    "+ [Data Community DC](http://www.datacommunitydc.org/meetups-overview/). this is an umbrella organization covering a ton of the local data science organization and meetup scene. there are currently 10 sub-meetup groups focused on different topics, and I've found that the quality of the individual presentations varies but is generally more worth attending than not\n",
    "+ [DataKind DC](http://www.meetup.com/DataKind-DC/): (**note: this group has paused their regular meetups, but still does some projects at this time**) this is a really interesting group which works with nonprofits in the area to identify data science problems that could be of use to those organizations. There is a team of professional volunteers who work with the nonprofits before it ever gets to you, the data scientisit volunteers. this means that the projects that you are walking into are usually *at least* scoped and vetted, leaving you with something tangible to look into. you and a dozen or so other data scientists will then help that nonprofit put together a data science solution a real problem they have.\n",
    "    + this is a *great* way to get experience working on a team on a scoped and defined data science problem. in my experience, whether you see success, failure, or something inbetween, this is **invaluable experience for future interviews** for real data science positions\n",
    "    + there are multiple projects to pick from each meeting so you can see if any of the projects speak to you technically or personally.\n",
    "    + an example project: they worked with the american red cross to develop a model to predict risk due to lack of smoke alarms in homes\n",
    "+ [Code for DC](https://codefordc.org/): this is much like DataKind above, but less specifically focused on data science and more focused on projects affecing DC. if you are interested in coding generally, or seeing if you can find a good applciation of your data science skills in these settings, I highly recommend this friendly group. they will take on folks of *all* experience levels, especially including `none`. they're happy to teach, in my experience.\n",
    "\n",
    "\n",
    "##### there is nothing to deliver here"
   ]
  },
  {
   "cell_type": "markdown",
   "metadata": {},
   "source": [
    "<div style=\"border: 1px solid lightgrey;\">"
   ]
  }
 ],
 "metadata": {
  "kernelspec": {
   "display_name": "Python 3",
   "language": "python",
   "name": "python3"
  },
  "language_info": {
   "codemirror_mode": {
    "name": "ipython",
    "version": 3
   },
   "file_extension": ".py",
   "mimetype": "text/x-python",
   "name": "python",
   "nbconvert_exporter": "python",
   "pygments_lexer": "ipython3",
   "version": "3.7.3"
  },
  "toc": {
   "base_numbering": 1,
   "nav_menu": {},
   "number_sections": true,
   "sideBar": true,
   "skip_h1_title": false,
   "title_cell": "Table of Contents",
   "title_sidebar": "Contents",
   "toc_cell": false,
   "toc_position": {},
   "toc_section_display": true,
   "toc_window_display": false
  }
 },
 "nbformat": 4,
 "nbformat_minor": 2
}
